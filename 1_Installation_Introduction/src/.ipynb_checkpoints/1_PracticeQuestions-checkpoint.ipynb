{
 "cells": [
  {
   "cell_type": "markdown",
   "metadata": {},
   "source": [
    "# Practice Problems\n",
    "\n",
    "\n",
    "## Problem 1\n",
    "\n",
    "Create a new model called m1. Implement the following model in Gurobi WITHOUT using addConstr or setObjective\n",
    "\n",
    "\n",
    "$$\\begin{align}\n",
    "\\max \\quad &3x_1 + 2x_2 + x_3\\\\\n",
    "\\text{s.t.} \\quad &0 \\leq x_1 \\leq 5\\\\\n",
    "& 2 \\leq x_2 \\leq 7\\\\\n",
    "    & 3 \\leq x_3 \\leq 4\n",
    "\\end{align}$$\n",
    "\n",
    "Optimal solution $(x_1, x_2, x_3) = (5, 7, 4)$ with objective value of 33."
   ]
  },
  {
   "cell_type": "code",
   "execution_count": null,
   "metadata": {},
   "outputs": [],
   "source": [
    "from gurobipy import *"
   ]
  },
  {
   "cell_type": "code",
   "execution_count": null,
   "metadata": {},
   "outputs": [],
   "source": []
  },
  {
   "cell_type": "markdown",
   "metadata": {},
   "source": [
    "## Problem 2 \n",
    "\n",
    "The Wyndor Glass Co. produces high-quality glass products, including windows and glass doors. Ith has three plants. Aluminium frames and hardware are made in Plant 1, wood frames are made in Plant 2, and Plant 3 produces the glass and assembles the products.\n",
    "\n",
    "The company is launching two products having large sales potential:\n",
    "\n",
    "* Product 1: An 8-foot glass door with aluminum framing\n",
    "* Product 2: A 4 x 6 foot double-hung wood-framed window\n",
    "\n",
    "Product 1 requires some of the production capacity in Plants 1 and 3, but none in Plant 2. Product 2 only needs Plants 2 and 3. The marketing division has concluded that the company can sell as much of either product as could be produced by these plants. However, since both products would be competing for the same production capacity in Plant 3, it is not clear which mix of the two products would be most profitable. \n",
    "\n",
    "\n",
    "|                  | Production Time per    |Batch, Hours |                                           |\n",
    "|:----------------:|:------:|:--------------------------------|:-----------------------------------------:|\n",
    "|       Plant      |  Product  1   |             Product    2                | Production Time Available <br> per Week, Hours |\n",
    "|         1        |    1   |                 0                |                     4                     |\n",
    "|         2        |    0   |                 2                |                     12                    |\n",
    "|         3        |    3   |                 2                |                     18                    |\n",
    "| Profit Per Batch | \\$3,000 |              \\$5,000              |                                           |\n",
    "\n",
    "\n",
    "1. Formulate this problem as a mathematical program.\n",
    "2. Implement this model (call it m2) using Gurobi and find which mix of products produces the maximum profit\n",
    "\n",
    "\n",
    "Solution: $(x_1, x_2) = (2,6)$, $z = 36$."
   ]
  },
  {
   "cell_type": "code",
   "execution_count": null,
   "metadata": {},
   "outputs": [],
   "source": []
  }
 ],
 "metadata": {
  "kernelspec": {
   "display_name": "Python 3",
   "language": "python",
   "name": "python3"
  },
  "language_info": {
   "codemirror_mode": {
    "name": "ipython",
    "version": 3
   },
   "file_extension": ".py",
   "mimetype": "text/x-python",
   "name": "python",
   "nbconvert_exporter": "python",
   "pygments_lexer": "ipython3",
   "version": "3.7.4"
  }
 },
 "nbformat": 4,
 "nbformat_minor": 2
}
