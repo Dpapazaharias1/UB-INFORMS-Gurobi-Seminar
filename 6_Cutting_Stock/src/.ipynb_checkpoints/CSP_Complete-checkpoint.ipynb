{
 "cells": [
  {
   "cell_type": "markdown",
   "metadata": {},
   "source": [
    "# Cutting Stock Problem"
   ]
  },
  {
   "cell_type": "code",
   "execution_count": null,
   "metadata": {},
   "outputs": [],
   "source": [
    "from gurobipy import *\n",
    "import math"
   ]
  },
  {
   "cell_type": "markdown",
   "metadata": {},
   "source": [
    "## Reading an instance\n",
    "\n",
    "We will read in an instance of the cutting stock problem just as we did for the previous workshops. The file CSP.txt contains the instance we will be looking at today. The first line of the file represents the number of customers or different roll widths (11), and the width of the stock material (1000). The first number in each subsequent line represents the width of the roll demanded and the second number is the demand of that width."
   ]
  },
  {
   "cell_type": "code",
   "execution_count": null,
   "metadata": {},
   "outputs": [],
   "source": [
    "def read(inputfile):\n",
    "        f = open(inputfile, 'r')\n",
    "        line = f.readline()\n",
    "        fields = str.split(line)\n",
    "        \n",
    "        m = int(fields[0])\n",
    "        W = int(fields[1])\n",
    "        width = []\n",
    "        demand = []\n",
    "        for line in f:\n",
    "            fields = line.split(' ')\n",
    "            s = int(fields[0])\n",
    "            d = int(fields[1])\n",
    "            width.append(s)\n",
    "            demand.append(d)\n",
    "\n",
    "        f.close\n",
    "        return m, W, width, demand"
   ]
  },
  {
   "cell_type": "code",
   "execution_count": null,
   "metadata": {},
   "outputs": [],
   "source": [
    "m, W, width, demand =  read(\"../dat/CSP.txt\")"
   ]
  },
  {
   "cell_type": "markdown",
   "metadata": {},
   "source": [
    "## Restricted Master Problem\n",
    "\n",
    "We initial our restricted master problem we start with the simple cutting patterns that for each roll width demanded, we will have a pattern that only cuts that roll width.\n",
    "\\begin{align*}\n",
    "\t\t\\min \\quad &\\sum_{i = 1}^n x_i\\\\\n",
    "\t\t\\text{s.t.} \\quad& \\Big\\lfloor\\dfrac{W}{w_j}\\Big\\rfloor x_j \\geq q_j \\quad j = 1, \\dots, m\\\\\n",
    "\t\t&x_i \\in \\mathbb{Z}_+ \\quad i = 1, \\dots, n\n",
    "\t\\end{align*}\n",
    "\n",
    "### Accessing the value of the dual variables\n",
    "\n",
    "For this problem we need to obtain the value of the dual variables associated with each constraint after solving each RMP. In previous workshops we have not paid much attention to how we save our constraints. We will create a dictionary ```orders``` which will contain our constraints. In addition we will initialize the list ```pi``` which will contain the values of the dual variables at each iteration\n"
   ]
  },
  {
   "cell_type": "code",
   "execution_count": null,
   "metadata": {},
   "outputs": [],
   "source": [
    "master = Model('Cutting-Stock')\n",
    "n = m\n",
    "x = {}\n",
    "for i in range(n):\n",
    "    x[i] = master.addVar(vtype=GRB.CONTINUOUS, obj = 1, name=\"x_{}\".format(i))\n",
    "master.setParam(\"OutputFlag\", 0)\n",
    "master.update()\n",
    "master.modelSense = GRB.MINIMIZE\n",
    "\n",
    "orders = {} # Place Constraints in dictionary\n",
    "pi = [] # Dual Values\n",
    "for j in range(m):\n",
    "    pi.append(0)\n",
    "    orders[j] = master.addConstr(math.floor(W/float(width[j]))*x[j]  >= demand[j])"
   ]
  },
  {
   "cell_type": "markdown",
   "metadata": {},
   "source": [
    "## Knapsack Subproblem\n",
    "\n",
    "\\begin{align*}\n",
    "\t\t\\max \\quad &\\sum_{j=1}^m \\bar{\\pi}_j y_j\\\\\n",
    "\t\t\\text{s.t.} \\quad &\\sum_{j=1}^m w_j y_j \\leq W\\\\\n",
    "\t\t&y_j \\in \\mathbb{Z}_+ \\quad j = 1, \\dots, m\n",
    "\t\\end{align*}"
   ]
  },
  {
   "cell_type": "code",
   "execution_count": null,
   "metadata": {},
   "outputs": [],
   "source": [
    "subproblem = Model(\"Knapsack\")\n",
    "y = {}\n",
    "for j in range(m):\n",
    "    y[j] = subproblem.addVar(vtype=GRB.INTEGER, name=\"y_{}\".format(j))\n",
    "\n",
    "subproblem.setParam(\"OutputFlag\", 0)\n",
    "subproblem.modelSense = GRB.MAXIMIZE\n",
    "subproblem.addConstr(quicksum(width[j]*y[j] for j in range(m)) <= W)\n",
    "subproblem.update()"
   ]
  },
  {
   "cell_type": "code",
   "execution_count": null,
   "metadata": {},
   "outputs": [],
   "source": [
    "def printMasterSol(master, x, n, m):\n",
    "    print(\"-----------\")\n",
    "    print(\"Iteration: {}\".format(n - m))\n",
    "    print(\"-----------\")\n",
    "    print(\"Rolls used: {}\".format(master.objval))\n",
    "    for i in range(n):\n",
    "        if x[i].X > 0:\n",
    "            print(\"{} = {}\".format(x[i].VarName, x[i].x))\n",
    "    print(\"-----------\")\n",
    "\n",
    "def printDualSol(subproblem, y, m):\n",
    "    print(\"New column found with reduced cost {}\".format(1 - subproblem.objval))\n",
    "    for j in range(m):\n",
    "        if y[j].X > 0:\n",
    "            print(\"{} rolls of item {}\".format(y[j].X, j))"
   ]
  },
  {
   "cell_type": "code",
   "execution_count": null,
   "metadata": {},
   "outputs": [],
   "source": [
    "master.optimize()\n",
    "printMasterSol(master, x, n, m)"
   ]
  },
  {
   "cell_type": "code",
   "execution_count": null,
   "metadata": {},
   "outputs": [],
   "source": [
    "for j in range(m):\n",
    "    y[j].Obj = orders[j].Pi\n",
    "\n",
    "subproblem.optimize()"
   ]
  },
  {
   "cell_type": "code",
   "execution_count": null,
   "metadata": {},
   "outputs": [],
   "source": [
    "while(subproblem.objval > 1):\n",
    "    printDualSol(subproblem, y, m)\n",
    "    \n",
    "    x[n] = master.addVar(vtype=GRB.CONTINUOUS, obj = 1, name=\"x_{}\".format(n))\n",
    "    master.update()\n",
    "    \n",
    "    for i in range(m):\n",
    "        if y[i].x > 0.1:\n",
    "            master.chgCoeff(orders[i], x[n], y[i].x)\n",
    "    \n",
    "    master.optimize()\n",
    "    n += 1\n",
    "    printMasterSol(master, x, n, m)\n",
    "    \n",
    "    for i in range(m):\n",
    "        y[i].Obj = orders[i].Pi\n",
    "    \n",
    "    subproblem.optimize()"
   ]
  },
  {
   "cell_type": "code",
   "execution_count": null,
   "metadata": {},
   "outputs": [],
   "source": [
    "master.setParam(\"OutputFlag\", 1)\n",
    "for i in range(n):\n",
    "    x[i].vtype = GRB.INTEGER\n",
    "master.update()\n",
    "master.optimize()"
   ]
  }
 ],
 "metadata": {
  "kernelspec": {
   "display_name": "Python 3",
   "language": "python",
   "name": "python3"
  },
  "language_info": {
   "codemirror_mode": {
    "name": "ipython",
    "version": 3
   },
   "file_extension": ".py",
   "mimetype": "text/x-python",
   "name": "python",
   "nbconvert_exporter": "python",
   "pygments_lexer": "ipython3",
   "version": "3.7.4"
  }
 },
 "nbformat": 4,
 "nbformat_minor": 2
}
