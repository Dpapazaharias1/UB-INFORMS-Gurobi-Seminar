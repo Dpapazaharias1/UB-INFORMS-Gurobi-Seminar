{
 "cells": [
  {
   "cell_type": "markdown",
   "metadata": {},
   "source": [
    "## Python visualization package (matplotlib)\n",
    "\n",
    "For this version of the TSP we will work with some geospatial data which gives us the opportunity to visualize our solution. If you have not used matplotlib before you can install the package by uncommenting the code in the cell below.\n",
    "\n",
    "```python\n",
    "pip install matplotlib\n",
    "```\n",
    "**Note: You must restart the kernel after the package is installed**"
   ]
  },
  {
   "cell_type": "code",
   "execution_count": 2,
   "metadata": {},
   "outputs": [],
   "source": [
    "#pip install matplotlib"
   ]
  },
  {
   "cell_type": "code",
   "execution_count": 3,
   "metadata": {},
   "outputs": [],
   "source": [
    "from gurobipy import *\n",
    "from math import sqrt\n",
    "import matplotlib.pyplot as plt"
   ]
  },
  {
   "cell_type": "markdown",
   "metadata": {},
   "source": [
    "# Traveling Salesman Problem\n",
    "\n",
    "\n",
    "## Reading the data\n",
    "\n",
    "In the last workshop we learned how to read in a graph from a .txt file. Since the traveling salesman problem is defined over a graph we will repeat this process however the formatting of the document is a bit different. For each instance of the TSP, the first line of the .txt file represents the number of cities $n$. The following $n$ lines of the .txt file will contain the $(x,y)$ coordinates for each of the $n$ cities."
   ]
  },
  {
   "cell_type": "code",
   "execution_count": 4,
   "metadata": {},
   "outputs": [],
   "source": [
    "def read(inputfile):\n",
    "    f = open(inputfile, 'r')\n",
    "    line = f.readline()\n",
    "    fields = str.split(line)\n",
    "    n = int(fields[0])\n",
    "    \n",
    "    location = [[] for i in range(n)] # initialize a list of coordinates for each city\n",
    "    \n",
    "    \n",
    "    i = 0\n",
    "    for line in f:\n",
    "        fields = line.split('\\t')\n",
    "        loc_x = float(fields[0])\n",
    "        loc_y = float(fields[1])\n",
    "        location[i] = (loc_x, loc_y)\n",
    "        i += 1\n",
    "    f.close\n",
    "    \n",
    "    return location"
   ]
  },
  {
   "cell_type": "markdown",
   "metadata": {},
   "source": [
    "## Calculating Arc Cost\n",
    "\n",
    "Since we are only given the coordinates of each city we must compute the distance (or cost) of moving from city $i$ to city $j$. We will simply take the Euclidean distance between these points.\n",
    "\n",
    "$$c_{ij} = \\sqrt{(x_i - x_j)^2 + (y_i - y_j)^2}$$\n",
    "\n",
    "Since we are making the simplifying assumption that the costs are symmetric we can reduce our calculations slightly by setting $c_{ji} = c_{ij}$"
   ]
  },
  {
   "cell_type": "code",
   "execution_count": 5,
   "metadata": {},
   "outputs": [],
   "source": [
    "def calcDistance(location):\n",
    "    n = len(location) # number of nodes\n",
    "    distance = [[0 for j in range (n)] for i in range(n)] # initialize arc costs\n",
    "    for i in range(n):\n",
    "        for j in range(i,n):\n",
    "            if i < j:\n",
    "                x_dist = (location[i][0] - location[j][0])**2\n",
    "                y_dist = (location[i][1] - location[j][1])**2\n",
    "                dist = sqrt(x_dist + y_dist)\n",
    "                distance[i][j] = dist\n",
    "                distance[j][i] = dist\n",
    "    \n",
    "    return distance"
   ]
  },
  {
   "cell_type": "markdown",
   "metadata": {},
   "source": [
    "## Parameters"
   ]
  },
  {
   "cell_type": "code",
   "execution_count": 6,
   "metadata": {},
   "outputs": [],
   "source": [
    "inputfile = '../dat/TSP_instance_n_50_s_0.dat'\n",
    "location = read(inputfile) # location of each city\n",
    "n = len(location) # number of cities \n",
    "distance = calcDistance(location) # arc costs"
   ]
  },
  {
   "cell_type": "markdown",
   "metadata": {},
   "source": [
    "## Model\n",
    "\n",
    "We will initialize our model without the subtour elimination constraints.\n",
    "\n",
    "$$ \\begin{align*}\n",
    "\\min \\quad &\\sum_{(i,j) \\in A} c_{ij}x_{ij}\\\\\n",
    "\\text{s.t}\\quad &\\sum_{j \\in N\\setminus\\lbrace i \\rbrace} x_{ij} = 1 \\quad i \\in N\\\\\n",
    "&\\sum_{j \\in N\\setminus\\lbrace i \\rbrace} x_{ij} = 1 \\quad i \\in N\\\\\n",
    "& x_{ij} \\in \\lbrace 0,1 \\rbrace \\quad (i,j) \\in A\n",
    "\\end{align*}$$"
   ]
  },
  {
   "cell_type": "code",
   "execution_count": 7,
   "metadata": {},
   "outputs": [
    {
     "name": "stdout",
     "output_type": "stream",
     "text": [
      "Academic license - for non-commercial use only\n"
     ]
    }
   ],
   "source": [
    "TSP = Model('TSP')\n",
    "\n",
    "x = {}\n",
    "for i in range(n):\n",
    "    for j in range(n):\n",
    "        if i != j:\n",
    "            x[i,j] = TSP.addVar(vtype=GRB.BINARY, obj = distance[i][j], name = 'x_{}_{}'.format(i,j))\n",
    "            \n",
    "TSP.modelSense = GRB.MINIMIZE\n",
    "TSP.update()\n",
    "\n",
    "for i in range(n):\n",
    "    TSP.addConstr(quicksum(x[i,j] for j in range(n) if i != j) == 1, name='leave_{}'.format(i))\n",
    "    TSP.addConstr(quicksum(x[j,i] for j in range(n) if i != j) == 1, name='enter_{}'.format(i))"
   ]
  },
  {
   "cell_type": "markdown",
   "metadata": {},
   "source": [
    "## Model Parameters\n",
    "\n",
    "For the TSP we only have one model parameter to set which is ```model.Params.lazyConstraints```. In order to use lazy cuts in our callback we set\n",
    "\n",
    "```python \n",
    "TSP.Params.lazyConstraints = 1\n",
    "```"
   ]
  },
  {
   "cell_type": "code",
   "execution_count": 8,
   "metadata": {},
   "outputs": [
    {
     "name": "stdout",
     "output_type": "stream",
     "text": [
      "Changed value of parameter lazyConstraints to 1\n",
      "   Prev: 0  Min: 0  Max: 1  Default: 0\n"
     ]
    }
   ],
   "source": [
    "TSP.Params.lazyConstraints = 1"
   ]
  },
  {
   "cell_type": "markdown",
   "metadata": {},
   "source": [
    "## Load Data to TSP Model\n",
    "\n",
    "Since our callback can only take two arguements, we need load our variables and the number of cities into our TSP model in order to access them during the callback"
   ]
  },
  {
   "cell_type": "code",
   "execution_count": 9,
   "metadata": {},
   "outputs": [],
   "source": [
    "# Load data into the model\n",
    "TSP._x = x\n",
    "TSP._n = n"
   ]
  },
  {
   "cell_type": "markdown",
   "metadata": {},
   "source": [
    "## Subtour Elmination Callback\n",
    "\n",
    "Our callback function subtourelim has two arguments: model and where. The model will be the TSP model. We use \"where\" in order to query the status of the model. The statement\n",
    "\n",
    "```python\n",
    "if where == GRB.Callback.MIPSOL\n",
    "```\n",
    "indicates that we want to query the model once an **integer solution** is found in the branch and bound tree. Once an integer solution is found we use \n",
    "\n",
    "```python\n",
    "model.cbGetSolution(model._x)\n",
    "```\n",
    "\n",
    "to get the current IP solution at this node. With this we can construct a graph represented by the current solution. We will implement a breadth first search (BFS) scheme in order find the number of connected components (subtours) in the current solution. For each subtour $S$, we add the corresponding constraint:\n",
    "\n",
    "$$ \\sum_{i \\in S} \\sum_{j \\in S} x_{ij} \\leq |S| - 1$$\n",
    "\n",
    "to separate these integer solutions.\n",
    "\n",
    "## Connected Components by BFS\n",
    "\n",
    "**Input**: An adjacency list for the current IP solution\n",
    "\n",
    "**Output**: The connected components (subtours) of the current solution\n",
    "1. $C \\gets \\emptyset$\n",
    "2. initialize every vertex as undiscovered\n",
    "3. for $i \\in N$:\n",
    "4. $\\quad K \\gets \\emptyset$\n",
    "5. $\\quad Q \\gets \\emptyset$\n",
    "6. $\\quad$ If $i$ is not discovered:\n",
    "7. $\\quad\\quad$ label $i$ discovered\n",
    "8. $\\quad\\quad$ $K \\gets K \\cup \\lbrace i \\rbrace$\n",
    "9. $\\quad\\quad$ $Q \\gets Q \\cup \\lbrace i \\rbrace$\n",
    "10. $\\quad\\quad$ while $Q$ is not empty:\n",
    "11. $\\quad\\quad\\quad$ $v \\gets Q$.dequeue()\n",
    "12. $\\quad\\quad\\quad$ for $u$ in Adj($v$):\n",
    "13. $\\quad\\quad\\quad\\quad$ if $u$ is not discovered:\n",
    "14. $\\quad\\quad\\quad\\quad\\quad$ label $u$ as discovered\n",
    "15. $\\quad\\quad\\quad\\quad\\quad$ $K \\gets K \\cup \\lbrace u \\rbrace$\n",
    "16. $\\quad\\quad\\quad\\quad\\quad$ $Q \\gets Q \\cup \\lbrace u \\rbrace$\n",
    "17. $\\quad\\quad$ $C \\gets C \\cup \\lbrace K\\rbrace$"
   ]
  },
  {
   "cell_type": "code",
   "execution_count": 10,
   "metadata": {},
   "outputs": [],
   "source": [
    "def subtourelim(model, where):\n",
    "    if where == GRB.Callback.MIPSOL:\n",
    "        # Retrieve Current Solution\n",
    "        x_sol = model.cbGetSolution(model._x)\n",
    "        arcs = tuplelist((i,j) for i,j in model._x.keys() if x_sol[i,j] > 0.5)\n",
    "        adjList = [[] for i in range(model._n)]\n",
    "        for i, j in arcs:\n",
    "            adjList[i].append(j)    \n",
    "        # Find connected components\n",
    "        found = [0 for i in range(model._n)]\n",
    "        components = []\n",
    "        #------- Separation Algorithm -------\n",
    "        for i in range(model._n):\n",
    "            component = []\n",
    "            queue = []\n",
    "            if found[i] == 0:\n",
    "                found[i] = 1\n",
    "                component.append(i)\n",
    "                queue.append(i)\n",
    "                while queue:\n",
    "                    v = queue.pop(0)\n",
    "                    for u in adjList[v]:\n",
    "                        if found[u] == 0:\n",
    "                            found[u] = 1\n",
    "                            component.append(u)\n",
    "                            queue.append(u)\n",
    "                components.append(component)\n",
    "        # ------- Check connected components -------\n",
    "        for component in components:\n",
    "            if len(component) < model._n:\n",
    "                print('Add constraint for subtour: {}'.format(component))\n",
    "                model.cbLazy(quicksum(x[i,j] for i in component for j in component if i !=j) <= len(component) - 1)\n",
    "            "
   ]
  },
  {
   "cell_type": "code",
   "execution_count": 11,
   "metadata": {
    "scrolled": false
   },
   "outputs": [
    {
     "name": "stdout",
     "output_type": "stream",
     "text": [
      "Optimize a model with 100 rows, 2450 columns and 4900 nonzeros\n",
      "Variable types: 0 continuous, 2450 integer (2450 binary)\n",
      "Coefficient statistics:\n",
      "  Matrix range     [1e+00, 1e+00]\n",
      "  Objective range  [1e-01, 2e+01]\n",
      "  Bounds range     [1e+00, 1e+00]\n",
      "  RHS range        [1e+00, 1e+00]\n",
      "Add constraint for subtour: [0, 20, 30, 44, 21, 5, 8, 45, 26, 24]\n",
      "Add constraint for subtour: [1, 34, 4, 42, 27, 2, 7, 37, 33, 41]\n",
      "Add constraint for subtour: [3, 38, 36, 35, 32, 25, 31, 43, 16, 47, 17, 10, 46, 22, 11, 40, 12, 9, 14, 13, 29, 19, 23]\n",
      "Add constraint for subtour: [6, 18, 48, 28, 49, 15, 39]\n",
      "Presolve time: 0.02s\n",
      "Presolved: 100 rows, 2450 columns, 4900 nonzeros\n",
      "Variable types: 0 continuous, 2450 integer (2450 binary)\n",
      "Add constraint for subtour: [0, 1]\n",
      "Add constraint for subtour: [2, 14]\n",
      "Add constraint for subtour: [3, 7]\n",
      "Add constraint for subtour: [4, 29, 32]\n",
      "Add constraint for subtour: [5, 48]\n",
      "Add constraint for subtour: [6, 16]\n",
      "Add constraint for subtour: [8, 36]\n",
      "Add constraint for subtour: [9, 19]\n",
      "Add constraint for subtour: [10, 24]\n",
      "Add constraint for subtour: [11, 33]\n",
      "Add constraint for subtour: [12, 46]\n",
      "Add constraint for subtour: [13, 25]\n",
      "Add constraint for subtour: [15, 22]\n",
      "Add constraint for subtour: [17, 45]\n",
      "Add constraint for subtour: [18, 37]\n",
      "Add constraint for subtour: [20, 35]\n",
      "Add constraint for subtour: [21, 28, 31]\n",
      "Add constraint for subtour: [23, 47]\n",
      "Add constraint for subtour: [26, 41]\n",
      "Add constraint for subtour: [27, 49]\n",
      "Add constraint for subtour: [30, 38]\n",
      "Add constraint for subtour: [34, 42]\n",
      "Add constraint for subtour: [39, 44]\n",
      "Add constraint for subtour: [40, 43]\n",
      "Add constraint for subtour: [0, 49]\n",
      "Add constraint for subtour: [1, 48]\n",
      "Add constraint for subtour: [2, 47]\n",
      "Add constraint for subtour: [3, 46]\n",
      "Add constraint for subtour: [4, 45]\n",
      "Add constraint for subtour: [5, 44]\n",
      "Add constraint for subtour: [6, 43]\n",
      "Add constraint for subtour: [7, 42]\n",
      "Add constraint for subtour: [8, 41]\n",
      "Add constraint for subtour: [9, 40]\n",
      "Add constraint for subtour: [10, 39]\n",
      "Add constraint for subtour: [11, 38]\n",
      "Add constraint for subtour: [12, 37]\n",
      "Add constraint for subtour: [13, 36]\n",
      "Add constraint for subtour: [14, 35]\n",
      "Add constraint for subtour: [15, 34]\n",
      "Add constraint for subtour: [16, 33]\n",
      "Add constraint for subtour: [17, 32]\n",
      "Add constraint for subtour: [18, 31]\n",
      "Add constraint for subtour: [19, 30]\n",
      "Add constraint for subtour: [20, 29]\n",
      "Add constraint for subtour: [21, 28]\n",
      "Add constraint for subtour: [22, 27]\n",
      "Add constraint for subtour: [23, 26]\n",
      "Add constraint for subtour: [24, 25]\n",
      "\n",
      "Root relaxation: objective 1.044472e+02, 123 iterations, 0.00 seconds\n",
      "\n",
      "    Nodes    |    Current Node    |     Objective Bounds      |     Work\n",
      " Expl Unexpl |  Obj  Depth IntInf | Incumbent    BestBd   Gap | It/Node Time\n",
      "\n",
      "     0     0  104.44722    0   14          -  104.44722      -     -    0s\n",
      "Add constraint for subtour: [0, 49, 27]\n",
      "Add constraint for subtour: [1, 14, 2, 4, 29, 32, 26, 41]\n",
      "Add constraint for subtour: [3, 7, 20]\n",
      "Add constraint for subtour: [5, 35, 48]\n",
      "Add constraint for subtour: [6, 43, 40, 16]\n",
      "Add constraint for subtour: [8, 33, 11, 30, 38]\n",
      "Add constraint for subtour: [9, 42]\n",
      "Add constraint for subtour: [10, 24, 47, 22, 15]\n",
      "Add constraint for subtour: [12, 17, 45, 46]\n",
      "Add constraint for subtour: [13, 44]\n",
      "Add constraint for subtour: [18, 23, 37]\n",
      "Add constraint for subtour: [19, 34]\n",
      "Add constraint for subtour: [21, 31]\n",
      "Add constraint for subtour: [25, 39]\n",
      "Add constraint for subtour: [28, 36]\n",
      "Add constraint for subtour: [0, 6, 14]\n",
      "Add constraint for subtour: [1, 34, 19, 41]\n",
      "Add constraint for subtour: [2, 4, 29]\n",
      "Add constraint for subtour: [3, 7, 17, 49, 33, 11, 30, 38, 8, 36, 28, 21, 31, 48, 5, 35, 20]\n",
      "Add constraint for subtour: [9, 32, 26, 42]\n",
      "Add constraint for subtour: [10, 24, 23, 18, 47, 22, 15]\n",
      "Add constraint for subtour: [12, 46, 45]\n",
      "Add constraint for subtour: [13, 25, 39, 44]\n",
      "Add constraint for subtour: [16, 43, 40]\n",
      "Add constraint for subtour: [27, 37]\n",
      "Add constraint for subtour: [0, 1, 49, 27, 37, 40, 16, 43, 2, 14, 6]\n",
      "Add constraint for subtour: [3, 7, 39, 25, 13, 44]\n",
      "Add constraint for subtour: [4, 29]\n",
      "Add constraint for subtour: [5, 21, 31]\n",
      "Add constraint for subtour: [8, 33]\n",
      "Add constraint for subtour: [9, 42, 34, 19, 41, 26, 32]\n",
      "Add constraint for subtour: [10, 15]\n",
      "Add constraint for subtour: [11, 24]\n",
      "Add constraint for subtour: [12, 20, 46, 17, 45]\n",
      "Add constraint for subtour: [18, 23]\n",
      "Add constraint for subtour: [22, 47]\n",
      "Add constraint for subtour: [28, 30, 38, 36]\n",
      "Add constraint for subtour: [35, 48]\n",
      "Add constraint for subtour: [0, 5, 35, 48, 10, 24, 47, 22, 15, 23, 18, 16, 43, 40, 37, 27, 49, 8, 33, 11, 30, 38, 21, 31, 20, 12, 46, 17, 45, 44, 13, 1, 3, 9, 42, 2, 4, 29, 32, 26, 41, 6, 39, 25]\n",
      "Add constraint for subtour: [7, 36, 28]\n",
      "Add constraint for subtour: [14, 34, 19]\n",
      "     0     0  113.63512    0   42          -  113.63512      -     -    0s\n",
      "Add constraint for subtour: [0, 27, 49, 33, 8, 38, 36, 28, 21, 48, 35, 20, 46, 7, 3, 39, 25, 13, 44, 42, 9, 34, 19, 41, 1]\n",
      "Add constraint for subtour: [2, 4, 29, 32, 26]\n",
      "Add constraint for subtour: [5, 31]\n",
      "Add constraint for subtour: [6, 14]\n",
      "Add constraint for subtour: [10, 15, 22, 24]\n",
      "Add constraint for subtour: [11, 30]\n",
      "Add constraint for subtour: [12, 17, 45]\n",
      "Add constraint for subtour: [16, 43]\n",
      "Add constraint for subtour: [18, 23, 47, 37, 40]\n",
      "     0     2  113.63512    0   42          -  113.63512      -     -    0s\n",
      "Add constraint for subtour: [0, 27, 49, 17, 45, 12, 46, 35, 48, 5, 31, 21, 28, 36, 30, 38, 8, 33, 11, 24, 10, 15, 22, 47, 23, 18, 37, 40, 43, 16, 6, 14, 2, 4, 29, 32, 26, 41, 1]\n",
      "Add constraint for subtour: [3, 39, 25, 13, 44]\n",
      "Add constraint for subtour: [7, 20]\n",
      "Add constraint for subtour: [9, 34, 19, 42]\n",
      "*    9     7               3     114.3939748  114.13417  0.23%  11.6    0s\n",
      "\n",
      "Cutting planes:\n",
      "  Lazy constraints: 103\n",
      "\n",
      "Explored 13 nodes (359 simplex iterations) in 0.27 seconds\n",
      "Thread count was 4 (of 4 available processors)\n",
      "\n",
      "Solution count 1: 114.394 \n",
      "\n",
      "Optimal solution found (tolerance 1.00e-04)\n",
      "Best objective 1.143939747684e+02, best bound 1.143939747684e+02, gap 0.0000%\n"
     ]
    }
   ],
   "source": [
    "TSP.optimize(subtourelim)"
   ]
  },
  {
   "cell_type": "markdown",
   "metadata": {},
   "source": [
    "## Visualization\n",
    "\n",
    "We can utilize the python package matplotlib to visualize our solution."
   ]
  },
  {
   "cell_type": "code",
   "execution_count": 16,
   "metadata": {},
   "outputs": [],
   "source": [
    "def plotSolution(x_sol, location):\n",
    "    coord_x = [v[0] for v in location]\n",
    "    coord_y = [v[1] for v in location]\n",
    "    Arcs = []\n",
    "    plt.clf()\n",
    "    for i, j in x_sol.keys():\n",
    "        if x_sol[i, j].X > 0.5:\n",
    "            plt.plot([coord_x[i], coord_x[j]], [coord_y[i], coord_y[j]], color='b', alpha=0.4,zorder=0)\n",
    "    plt.scatter(x=coord_x, y=coord_y, color='r', zorder=1)\n",
    "    for i in range(len(location)):\n",
    "        plt.annotate(i, (coord_x[i]+0.25,coord_y[i]+0.25))\n",
    "    plt.xlim((0,22))\n",
    "    plt.ylim((0,22))\n",
    "    #plt.savefig('TSP.jpg')\n",
    "    plt.show()"
   ]
  },
  {
   "cell_type": "code",
   "execution_count": 17,
   "metadata": {},
   "outputs": [
    {
     "data": {
      "image/png": "[encoded data removed]",
      "text/plain": [
       "<Figure size 432x288 with 1 Axes>"
      ]
     },
     "metadata": {
      "needs_background": "light"
     },
     "output_type": "display_data"
    }
   ],
   "source": [
    "plotSolution(x, location)"
   ]
  }
 ],
 "metadata": {
  "kernelspec": {
   "display_name": "Python 3",
   "language": "python",
   "name": "python3"
  },
  "language_info": {
   "codemirror_mode": {
    "name": "ipython",
    "version": 3
   },
   "file_extension": ".py",
   "mimetype": "text/x-python",
   "name": "python",
   "nbconvert_exporter": "python",
   "pygments_lexer": "ipython3",
   "version": "3.6.9"
  }
 },
 "nbformat": 4,
 "nbformat_minor": 2
}
