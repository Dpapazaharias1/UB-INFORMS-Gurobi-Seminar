{
 "cells": [
  {
   "cell_type": "code",
   "execution_count": 5,
   "metadata": {},
   "outputs": [],
   "source": [
    "from gurobipy import *\n",
    "from math import sqrt"
   ]
  },
  {
   "cell_type": "markdown",
   "metadata": {},
   "source": [
    "# Traveling Salesman Problem\n",
    "\n",
    "\n",
    "## Reading the data\n",
    "\n",
    "In the last workshop we learned how to read in a graph from a .txt file. Since the traveling salesman problem is defined over a graph we will repeat this process however the formatting of the document is a bit different. For each instance of the TSP, the first line of the .txt file represents the number of cities $n$. The following $n$ lines of the .txt file will contain the $(x,y)$ coordinates for each of the $n$ cities."
   ]
  },
  {
   "cell_type": "code",
   "execution_count": 6,
   "metadata": {},
   "outputs": [],
   "source": [
    "def read(inputfile):\n",
    "    f = open(inputfile, 'r')\n",
    "    line = f.readline()\n",
    "    fields = str.split(line)\n",
    "    n = int(fields[0])\n",
    "    \n",
    "    location = [[] for i in range(n)] # initialize a list of coordinates for each city\n",
    "    \n",
    "    \n",
    "    i = 0\n",
    "    for line in f:\n",
    "        fields = line.split('\\t')\n",
    "        loc_x = float(fields[0])\n",
    "        loc_y = float(fields[1])\n",
    "        location[i] = (loc_x, loc_y)\n",
    "        i += 1\n",
    "    f.close\n",
    "    \n",
    "    return location"
   ]
  },
  {
   "cell_type": "markdown",
   "metadata": {},
   "source": [
    "## Calculating Arc Cost\n",
    "\n",
    "Since we are only given the coordinates of each city we must compute the distance (or cost) of moving from city $i$ to city $j$. We will simply take the Euclidean distance between these points.\n",
    "\n",
    "$$c_{ij} = \\sqrt{(x_i - x_j)^2 + (y_i - y_j)^2}$$\n",
    "\n",
    "Since we are making the simplifying assumption that the costs are symmetric we can reduce our calculations slightly by setting $c_{ji} = c_{ij}$"
   ]
  },
  {
   "cell_type": "code",
   "execution_count": 7,
   "metadata": {},
   "outputs": [],
   "source": [
    "def calcDistance(location):\n",
    "    n = len(location) # number of nodes\n",
    "    distance = [[0 for j in range (n)] for i in range(n)] # initialize arc costs\n",
    "    for i in range(n):\n",
    "        for j in range(i,n):\n",
    "            if i < j:\n",
    "                x_dist = (location[i][0] - location[j][0])**2\n",
    "                y_dist = (location[i][1] - location[j][1])**2\n",
    "                dist = sqrt(x_dist + y_dist)\n",
    "                distance[i][j] = dist\n",
    "                distance[j][i] = dist\n",
    "    \n",
    "    return distance            "
   ]
  },
  {
   "cell_type": "code",
   "execution_count": 8,
   "metadata": {},
   "outputs": [],
   "source": [
    "inputfile = '../dat/TSP_instance_n_50_s_0.dat'\n",
    "location = read(inputfile) # location of each city\n",
    "n = len(location) # number of cities \n",
    "distance = calcDistance(location) # arc costs"
   ]
  },
  {
   "cell_type": "code",
   "execution_count": 10,
   "metadata": {},
   "outputs": [
    {
     "name": "stdout",
     "output_type": "stream",
     "text": [
      "Changed value of parameter lazyConstraints to 1\n",
      "   Prev: 0  Min: 0  Max: 1  Default: 0\n"
     ]
    }
   ],
   "source": [
    "TSP = Model('TSP')\n",
    "\n",
    "x = {}\n",
    "for i in range(n):\n",
    "    for j in range(n):\n",
    "        if i != j:\n",
    "            x[i,j] = TSP.addVar(vtype=GRB.BINARY, obj = distance[i][j], name = 'x_{}_{}'.format(i,j))\n",
    "            \n",
    "TSP.modelSense = GRB.MINIMIZE\n",
    "TSP.Params.lazyConstraints = 1\n",
    "TSP.update()\n",
    "\n",
    "for i in range(n):\n",
    "    TSP.addConstr(quicksum(x[i,j] for j in range(n) if i != j) == 1, name='leave_{}'.format(i))\n",
    "    TSP.addConstr(quicksum(x[j,i] for j in range(n) if i != j) == 1, name='enter_{}'.format(i))"
   ]
  },
  {
   "cell_type": "code",
   "execution_count": 11,
   "metadata": {},
   "outputs": [],
   "source": [
    "# Load data into the model\n",
    "TSP._x = x\n",
    "TSP._n = n"
   ]
  },
  {
   "cell_type": "code",
   "execution_count": 12,
   "metadata": {},
   "outputs": [],
   "source": [
    "def subtourelim(model, where):\n",
    "    if where == GRB.Callback.MIPSOL:\n",
    "        # Retrieve Current Solution\n",
    "        x_sol = model.cbGetSolution(model._x)\n",
    "        arcs = tuplelist((i,j) for i,j in model._x.keys() if x_sol[i,j] > 0.5)\n",
    "        adjList = [[] for i in range(model._n)]\n",
    "        for i, j in arcs:\n",
    "            adjList[i].append(j)    \n",
    "        # Find connected components\n",
    "        found = [0 for i in range(model._n)]\n",
    "        components = []\n",
    "        #------- Separation Algorithm -------\n",
    "        for i in range(model._n):\n",
    "            component = []\n",
    "            queue = []\n",
    "            if discover[i] == 0:\n",
    "                discover[i] = 1\n",
    "                component.append(i)\n",
    "                queue.append(i)\n",
    "                while queue:\n",
    "                    v = queue.pop(0)\n",
    "                    for u in adjList[v]:\n",
    "                        if discover[u] == 0:\n",
    "                            discover[u] = 1\n",
    "                            component.append(u)\n",
    "                            queue.append(u)\n",
    "                components.append(component)\n",
    "        # ------- Check connected components -------\n",
    "        for component in components:\n",
    "            if len(component) < model._n:\n",
    "                model.cbLazy(quicksum(x[i,j] for i in component for j in component if i !=j) <= len(component) - 1)\n",
    "            "
   ]
  },
  {
   "cell_type": "code",
   "execution_count": 13,
   "metadata": {},
   "outputs": [
    {
     "name": "stdout",
     "output_type": "stream",
     "text": [
      "Optimize a model with 100 rows, 2450 columns and 4900 nonzeros\n",
      "Variable types: 0 continuous, 2450 integer (2450 binary)\n",
      "Coefficient statistics:\n",
      "  Matrix range     [1e+00, 1e+00]\n",
      "  Objective range  [1e-01, 2e+01]\n",
      "  Bounds range     [1e+00, 1e+00]\n",
      "  RHS range        [1e+00, 1e+00]\n"
     ]
    },
    {
     "ename": "NameError",
     "evalue": "name 'discover' is not defined",
     "output_type": "error",
     "traceback": [
      "\u001b[0;31m---------------------------------------------------------------------------\u001b[0m",
      "\u001b[0;31mNameError\u001b[0m                                 Traceback (most recent call last)",
      "\u001b[0;32mcallback.pxi\u001b[0m in \u001b[0;36mgurobipy.CallbackClass.callback\u001b[0;34m()\u001b[0m\n",
      "\u001b[0;32m<ipython-input-12-91c136c1cda2>\u001b[0m in \u001b[0;36msubtourelim\u001b[0;34m(model, where)\u001b[0m\n\u001b[1;32m     14\u001b[0m             \u001b[0mcomponent\u001b[0m \u001b[0;34m=\u001b[0m \u001b[0;34m[\u001b[0m\u001b[0;34m]\u001b[0m\u001b[0;34m\u001b[0m\u001b[0;34m\u001b[0m\u001b[0m\n\u001b[1;32m     15\u001b[0m             \u001b[0mqueue\u001b[0m \u001b[0;34m=\u001b[0m \u001b[0;34m[\u001b[0m\u001b[0;34m]\u001b[0m\u001b[0;34m\u001b[0m\u001b[0;34m\u001b[0m\u001b[0m\n\u001b[0;32m---> 16\u001b[0;31m             \u001b[0;32mif\u001b[0m \u001b[0mdiscover\u001b[0m\u001b[0;34m[\u001b[0m\u001b[0mi\u001b[0m\u001b[0;34m]\u001b[0m \u001b[0;34m==\u001b[0m \u001b[0;36m0\u001b[0m\u001b[0;34m:\u001b[0m\u001b[0;34m\u001b[0m\u001b[0;34m\u001b[0m\u001b[0m\n\u001b[0m\u001b[1;32m     17\u001b[0m                 \u001b[0mdiscover\u001b[0m\u001b[0;34m[\u001b[0m\u001b[0mi\u001b[0m\u001b[0;34m]\u001b[0m \u001b[0;34m=\u001b[0m \u001b[0;36m1\u001b[0m\u001b[0;34m\u001b[0m\u001b[0;34m\u001b[0m\u001b[0m\n\u001b[1;32m     18\u001b[0m                 \u001b[0mcomponent\u001b[0m\u001b[0;34m.\u001b[0m\u001b[0mappend\u001b[0m\u001b[0;34m(\u001b[0m\u001b[0mi\u001b[0m\u001b[0;34m)\u001b[0m\u001b[0;34m\u001b[0m\u001b[0;34m\u001b[0m\u001b[0m\n",
      "\u001b[0;31mNameError\u001b[0m: name 'discover' is not defined"
     ]
    },
    {
     "name": "stdout",
     "output_type": "stream",
     "text": [
      "Found heuristic solution: objective 531.8057152\n",
      "Presolve time: 0.11s\n",
      "Presolved: 100 rows, 2450 columns, 4900 nonzeros\n",
      "Variable types: 0 continuous, 2450 integer (2450 binary)\n",
      "\n",
      "Root relaxation: objective 1.007125e+02, 102 iterations, 0.01 seconds\n"
     ]
    },
    {
     "name": "stderr",
     "output_type": "stream",
     "text": [
      "Exception ignored in: 'gurobipy.callbackstub'\n",
      "Traceback (most recent call last):\n",
      "  File \"callback.pxi\", line 183, in gurobipy.CallbackClass.callback\n",
      "  File \"<ipython-input-12-91c136c1cda2>\", line 16, in subtourelim\n",
      "NameError: name 'discover' is not defined\n"
     ]
    },
    {
     "ename": "NameError",
     "evalue": "name 'discover' is not defined",
     "output_type": "error",
     "traceback": [
      "\u001b[0;31m---------------------------------------------------------------------------\u001b[0m",
      "\u001b[0;31mNameError\u001b[0m                                 Traceback (most recent call last)",
      "\u001b[0;32mcallback.pxi\u001b[0m in \u001b[0;36mgurobipy.CallbackClass.callback\u001b[0;34m()\u001b[0m\n",
      "\u001b[0;32m<ipython-input-12-91c136c1cda2>\u001b[0m in \u001b[0;36msubtourelim\u001b[0;34m(model, where)\u001b[0m\n\u001b[1;32m     14\u001b[0m             \u001b[0mcomponent\u001b[0m \u001b[0;34m=\u001b[0m \u001b[0;34m[\u001b[0m\u001b[0;34m]\u001b[0m\u001b[0;34m\u001b[0m\u001b[0;34m\u001b[0m\u001b[0m\n\u001b[1;32m     15\u001b[0m             \u001b[0mqueue\u001b[0m \u001b[0;34m=\u001b[0m \u001b[0;34m[\u001b[0m\u001b[0;34m]\u001b[0m\u001b[0;34m\u001b[0m\u001b[0;34m\u001b[0m\u001b[0m\n\u001b[0;32m---> 16\u001b[0;31m             \u001b[0;32mif\u001b[0m \u001b[0mdiscover\u001b[0m\u001b[0;34m[\u001b[0m\u001b[0mi\u001b[0m\u001b[0;34m]\u001b[0m \u001b[0;34m==\u001b[0m \u001b[0;36m0\u001b[0m\u001b[0;34m:\u001b[0m\u001b[0;34m\u001b[0m\u001b[0;34m\u001b[0m\u001b[0m\n\u001b[0m\u001b[1;32m     17\u001b[0m                 \u001b[0mdiscover\u001b[0m\u001b[0;34m[\u001b[0m\u001b[0mi\u001b[0m\u001b[0;34m]\u001b[0m \u001b[0;34m=\u001b[0m \u001b[0;36m1\u001b[0m\u001b[0;34m\u001b[0m\u001b[0;34m\u001b[0m\u001b[0m\n\u001b[1;32m     18\u001b[0m                 \u001b[0mcomponent\u001b[0m\u001b[0;34m.\u001b[0m\u001b[0mappend\u001b[0m\u001b[0;34m(\u001b[0m\u001b[0mi\u001b[0m\u001b[0;34m)\u001b[0m\u001b[0;34m\u001b[0m\u001b[0;34m\u001b[0m\u001b[0m\n",
      "\u001b[0;31mNameError\u001b[0m: name 'discover' is not defined"
     ]
    },
    {
     "name": "stdout",
     "output_type": "stream",
     "text": [
      "\n",
      "    Nodes    |    Current Node    |     Objective Bounds      |     Work\n",
      " Expl Unexpl |  Obj  Depth IntInf | Incumbent    BestBd   Gap | It/Node Time\n",
      "\n",
      "*    0     0               0     100.7124540  100.71245  0.00%     -    0s\n",
      "\n",
      "Explored 0 nodes (102 simplex iterations) in 0.27 seconds\n",
      "Thread count was 4 (of 4 available processors)\n",
      "\n",
      "Solution count 2: 100.712 531.806 \n",
      "\n",
      "Optimal solution found (tolerance 1.00e-04)\n",
      "Best objective 1.007124540312e+02, best bound 1.007124540312e+02, gap 0.0000%\n"
     ]
    },
    {
     "name": "stderr",
     "output_type": "stream",
     "text": [
      "Exception ignored in: 'gurobipy.callbackstub'\n",
      "Traceback (most recent call last):\n",
      "  File \"callback.pxi\", line 183, in gurobipy.CallbackClass.callback\n",
      "  File \"<ipython-input-12-91c136c1cda2>\", line 16, in subtourelim\n",
      "NameError: name 'discover' is not defined\n"
     ]
    }
   ],
   "source": [
    "TSP.optimize(subtourelim)"
   ]
  },
  {
   "cell_type": "code",
   "execution_count": null,
   "metadata": {},
   "outputs": [],
   "source": []
  }
 ],
 "metadata": {
  "kernelspec": {
   "display_name": "Python 3",
   "language": "python",
   "name": "python3"
  },
  "language_info": {
   "codemirror_mode": {
    "name": "ipython",
    "version": 3
   },
   "file_extension": ".py",
   "mimetype": "text/x-python",
   "name": "python",
   "nbconvert_exporter": "python",
   "pygments_lexer": "ipython3",
   "version": "3.7.4"
  }
 },
 "nbformat": 4,
 "nbformat_minor": 2
}
