{
 "cells": [
  {
   "cell_type": "markdown",
   "metadata": {},
   "source": [
    "## Python visualization package (matplotlib)\n",
    "\n",
    "For this version of the TSP we will work with some geospatial data which gives us the opportunity to visualize our solution. If you have not used matplotlib before you can install the package by uncommenting the code in the cell below.\n",
    "\n",
    "```python\n",
    "pip install matplotlib\n",
    "```\n",
    "**Note: You must restart the kernel after the package is installed**"
   ]
  },
  {
   "cell_type": "code",
   "execution_count": null,
   "metadata": {},
   "outputs": [],
   "source": [
    "#pip install matplotlib"
   ]
  },
  {
   "cell_type": "code",
   "execution_count": null,
   "metadata": {},
   "outputs": [],
   "source": [
    "from gurobipy import *\n",
    "from math import sqrt\n",
    "import matplotlib.pyplot as plt"
   ]
  },
  {
   "cell_type": "markdown",
   "metadata": {},
   "source": [
    "# Traveling Salesman Problem\n",
    "\n",
    "\n",
    "## Reading the data\n",
    "\n",
    "In the last workshop we learned how to read in a graph from a .txt file. Since the traveling salesman problem is defined over a graph we will repeat this process however the formatting of the document is a bit different. For each instance of the TSP, the first line of the .txt file represents the number of cities $n$. The following $n$ lines of the .txt file will contain the $(x,y)$ coordinates for each of the $n$ cities."
   ]
  },
  {
   "cell_type": "code",
   "execution_count": null,
   "metadata": {},
   "outputs": [],
   "source": [
    "def read(inputfile):\n",
    "    f = open(inputfile, 'r')\n",
    "    line = f.readline()\n",
    "    fields = str.split(line)\n",
    "    n = int(fields[0])\n",
    "    \n",
    "    location = [[] for i in range(n)] # initialize a list of coordinates for each city\n",
    "    \n",
    "    i = 0\n",
    "    for line in f:\n",
    "        fields = line.split('\\t')\n",
    "        loc_x = float(fields[0])\n",
    "        loc_y = float(fields[1])\n",
    "        location[i] = (loc_x, loc_y)\n",
    "        i += 1\n",
    "    f.close\n",
    "    \n",
    "    return location"
   ]
  },
  {
   "cell_type": "markdown",
   "metadata": {},
   "source": [
    "## Calculating Arc Cost\n",
    "\n",
    "Since we are only given the coordinates of each city we must compute the distance (or cost) of moving from city $i$ to city $j$. We will simply take the Euclidean distance between these points.\n",
    "\n",
    "$$c_{ij} = \\sqrt{(x_i - x_j)^2 + (y_i - y_j)^2}$$\n",
    "\n",
    "Since we are making the simplifying assumption that the costs are symmetric we can reduce our calculations slightly by setting $c_{ji} = c_{ij}$"
   ]
  },
  {
   "cell_type": "code",
   "execution_count": null,
   "metadata": {},
   "outputs": [],
   "source": [
    "def calcDistance(location):\n",
    "    n = len(location) # number of nodes\n",
    "    distance = [[0 for j in range (n)] for i in range(n)] # initialize arc costs\n",
    "    for i in range(n):\n",
    "        for j in range(i,n):\n",
    "            if i < j:\n",
    "                x_dist = (location[i][0] - location[j][0])**2\n",
    "                y_dist = (location[i][1] - location[j][1])**2\n",
    "                dist = sqrt(x_dist + y_dist)\n",
    "                distance[i][j] = dist\n",
    "                distance[j][i] = dist\n",
    "    \n",
    "    return distance"
   ]
  },
  {
   "cell_type": "markdown",
   "metadata": {},
   "source": [
    "## Parameters"
   ]
  },
  {
   "cell_type": "code",
   "execution_count": null,
   "metadata": {},
   "outputs": [],
   "source": [
    "inputfile = '../dat/TSP_instance_n_50_s_0.dat'\n",
    "location = read(inputfile) # location of each city\n",
    "n = len(location) # number of cities \n",
    "distance = calcDistance(location) # arc costs"
   ]
  },
  {
   "cell_type": "markdown",
   "metadata": {},
   "source": [
    "## Model\n",
    "\n",
    "We will initialize our model without the subtour elimination constraints.\n",
    "\n",
    "$$ \\begin{align*}\n",
    "\\min \\quad &\\sum_{(i,j) \\in A} c_{ij}x_{ij}\\\\\n",
    "\\text{s.t}\\quad &\\sum_{j \\in N\\setminus\\lbrace i \\rbrace} x_{ij} = 1 \\quad i \\in N\\\\\n",
    "&\\sum_{j \\in N\\setminus\\lbrace i \\rbrace} x_{ij} = 1 \\quad i \\in N\\\\\n",
    "& x_{ij} \\in \\lbrace 0,1 \\rbrace \\quad (i,j) \\in A\n",
    "\\end{align*}$$"
   ]
  },
  {
   "cell_type": "code",
   "execution_count": null,
   "metadata": {},
   "outputs": [],
   "source": [
    "TSP = Model('TSP')"
   ]
  },
  {
   "cell_type": "markdown",
   "metadata": {},
   "source": [
    "## Model Parameters\n",
    "\n",
    "For the TSP we only have one model parameter to set which is ```model.Params.lazyConstraints```. In order to use lazy cuts in our callback we set\n",
    "\n",
    "```python \n",
    "TSP.Params.lazyConstraints = 1\n",
    "```"
   ]
  },
  {
   "cell_type": "code",
   "execution_count": null,
   "metadata": {},
   "outputs": [],
   "source": []
  },
  {
   "cell_type": "markdown",
   "metadata": {},
   "source": [
    "## Load Data to TSP Model\n",
    "\n",
    "Since our callback can only take two arguements, we need load our variables and the number of cities into our TSP model in order to access them during the callback"
   ]
  },
  {
   "cell_type": "code",
   "execution_count": null,
   "metadata": {},
   "outputs": [],
   "source": [
    "# Load data into the model"
   ]
  },
  {
   "cell_type": "markdown",
   "metadata": {},
   "source": [
    "## Subtour Elmination Callback\n",
    "\n",
    "Our callback function subtourelim has two arguments: model and where. The model will be the TSP model. We use \"where\" in order to query the status of the model. The statement\n",
    "\n",
    "```python\n",
    "if where == GRB.Callback.MIPSOL\n",
    "```\n",
    "indicates that we want to query the model once an **integer solution** is found in the branch and bound tree. Once an integer solution is found we use \n",
    "\n",
    "```python\n",
    "model.cbGetSolution(model._x)\n",
    "```\n",
    "\n",
    "to get the current IP solution at this node. With this we can construct a graph represented by the current solution. We will implement a breadth first search (BFS) scheme in order find the number of connected components (subtours) in the current solution. For each subtour $S$, we add the corresponding constraint:\n",
    "\n",
    "$$ \\sum_{i \\in S} \\sum_{j \\in S} x_{ij} \\leq |S| - 1$$\n",
    "\n",
    "to separate these integer solutions.\n",
    "\n",
    "## Connected Components by BFS\n",
    "\n",
    "**Input**: An adjacency list for the current IP solution\n",
    "\n",
    "**Output**: The connected components (subtours) of the current solution\n",
    "1. $C \\gets \\emptyset$\n",
    "2. initialize every vertex as undiscovered\n",
    "3. for $i \\in N$:\n",
    "4. $\\quad K \\gets \\emptyset$\n",
    "5. $\\quad Q \\gets \\emptyset$\n",
    "6. $\\quad$ If $i$ is not discovered:\n",
    "7. $\\quad\\quad$ label $i$ discovered\n",
    "8. $\\quad\\quad$ $K \\gets K \\cup \\lbrace i \\rbrace$\n",
    "9. $\\quad\\quad$ $Q \\gets Q \\cup \\lbrace i \\rbrace$\n",
    "10. $\\quad\\quad$ while $Q$ is not empty:\n",
    "11. $\\quad\\quad\\quad$ $v \\gets Q$.dequeue()\n",
    "12. $\\quad\\quad\\quad$ for $u$ in Adj($v$):\n",
    "13. $\\quad\\quad\\quad\\quad$ if $u$ is not discovered:\n",
    "14. $\\quad\\quad\\quad\\quad\\quad$ label $u$ as discovered\n",
    "15. $\\quad\\quad\\quad\\quad\\quad$ $K \\gets K \\cup \\lbrace u \\rbrace$\n",
    "16. $\\quad\\quad\\quad\\quad\\quad$ $Q \\gets Q \\cup \\lbrace u \\rbrace$\n",
    "17. $\\quad\\quad$ $C \\gets C \\cup \\lbrace K\\rbrace$"
   ]
  },
  {
   "cell_type": "code",
   "execution_count": null,
   "metadata": {},
   "outputs": [],
   "source": [
    "def subtourelim(model, where):\n",
    "    pass\n",
    "            "
   ]
  },
  {
   "cell_type": "code",
   "execution_count": null,
   "metadata": {
    "scrolled": false
   },
   "outputs": [],
   "source": [
    "TSP.optimize(subtourelim)"
   ]
  },
  {
   "cell_type": "markdown",
   "metadata": {},
   "source": [
    "## Visualization\n",
    "\n",
    "We can utilize the python package matplotlib to visualize our solution."
   ]
  },
  {
   "cell_type": "code",
   "execution_count": null,
   "metadata": {},
   "outputs": [],
   "source": [
    "def plotSolution(x_sol, location):\n",
    "    coord_x = [v[0] for v in location]\n",
    "    coord_y = [v[1] for v in location]\n",
    "    Arcs = []\n",
    "    plt.clf()\n",
    "    for i, j in x_sol.keys():\n",
    "        if x_sol[i, j].X > 0.5:\n",
    "            plt.plot([coord_x[i], coord_x[j]], [coord_y[i], coord_y[j]], color='b', alpha=0.4,zorder=0)\n",
    "    plt.scatter(x=coord_x, y=coord_y, color='r', zorder=1)\n",
    "    for i in range(len(location)):\n",
    "        plt.annotate(i, (coord_x[i]+0.25,coord_y[i]+0.25))\n",
    "    plt.xlim((0,22))\n",
    "    plt.ylim((0,22))\n",
    "    plt.show()"
   ]
  },
  {
   "cell_type": "code",
   "execution_count": null,
   "metadata": {},
   "outputs": [],
   "source": [
    "plotSolution(x, location)"
   ]
  }
 ],
 "metadata": {
  "kernelspec": {
   "display_name": "Python 3",
   "language": "python",
   "name": "python3"
  },
  "language_info": {
   "codemirror_mode": {
    "name": "ipython",
    "version": 3
   },
   "file_extension": ".py",
   "mimetype": "text/x-python",
   "name": "python",
   "nbconvert_exporter": "python",
   "pygments_lexer": "ipython3",
   "version": "3.7.4"
  }
 },
 "nbformat": 4,
 "nbformat_minor": 2
}
