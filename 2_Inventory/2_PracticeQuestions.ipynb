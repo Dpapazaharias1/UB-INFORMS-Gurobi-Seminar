{
 "cells": [
  {
   "cell_type": "markdown",
   "metadata": {},
   "source": [
    "# Practice Problems\n",
    "\n",
    "## Problem 1: Drinking Glasses Extended\n",
    "\n",
    "We will now look at an instance of the drinking glass problem with a larger data set. We will also take a look at one Gurobi's objects, the multidict.\n",
    "\n",
    "## Multidict\n",
    "\n",
    "This function splits a single dictionary into multiple dictionaries. The input dictionary should map each key to a list of n values. The function returns a list of the shared keys as its first result, followed by the n individual Gurobi tuple dictionaries (stored as tupledict objects).\n",
    "\n",
    "\n",
    "### Arguments\n",
    "\n",
    "**data**: A Python dictionary. Each key should map to a list of values.\n",
    "\n",
    "### Return value\n",
    "\n",
    "A list, where the first member contains the shared key values, and the following members contain the dictionaries that result from splitting the value lists from the input dictionary.\n",
    "\n",
    "### Example\n",
    "\n",
    "```Python\n",
    "keys, dict1, dict2 = multidict( {\n",
    "    'key1': [1, 2],\n",
    "    'key2': [1, 3],\n",
    "    'key3': [1, 4] } )```\n",
    "\n",
    "Returns\n",
    "\n",
    "```Python \n",
    "keys = ['key1', 'key2', 'key3']\n",
    "dict1 = {'key1':1, 'key2':1, 'key3':1}\n",
    "dict2 = {'key1':2, 'key2':3, 'key3':4}\n",
    "```\n",
    "\n",
    "Usally we use multidict to specify a set i.e Nodes and Arcs, and define all the parameters associate with that set all in one function\n",
    "\n",
    "-----------\n",
    "\n",
    "Solve the drinking glasses problem with the data given below."
   ]
  },
  {
   "cell_type": "code",
   "execution_count": 1,
   "metadata": {},
   "outputs": [],
   "source": [
    "from gurobipy import *"
   ]
  },
  {
   "cell_type": "code",
   "execution_count": 2,
   "metadata": {},
   "outputs": [],
   "source": [
    "Glasses, pCost, sCost, iStock, fStock, workerTime, machineTime, storageSpace = multidict({\n",
    "    'V1': [100, 25, 50, 10, 3, 2, 4],\n",
    "    'V2': [80, 28, 20, 10, 3, 1, 5],\n",
    "    'V3': [110, 25, 0, 10, 3, 4, 5],\n",
    "    'V4': [90, 27, 15, 10, 2, 8, 6],\n",
    "    'V5': [200, 10, 0, 10, 4, 11, 4],\n",
    "    'V6': [140, 20, 10, 10, 4, 9, 9]\n",
    "})"
   ]
  },
  {
   "cell_type": "markdown",
   "metadata": {},
   "source": [
    "## Reading Data from a csv file\n",
    "\n",
    "For this problem we will read in our demands for each glass from a .csv file. If you open `glass_demand.csv` we will have a for each glass type the demand of that glass for weeks 1-12. Below is some code that opens a csv file and extracts the information from it."
   ]
  },
  {
   "cell_type": "code",
   "execution_count": 3,
   "metadata": {},
   "outputs": [],
   "source": [
    "demand = {} # Initiate a dictionary \n",
    "inputfile = 'glass_demand.csv' # Name of the csv containing the demand\n",
    "f = open(inputfile, 'r') # Open the input file\n",
    "line = f.readline() # Read the first line of the .csv \"Weeks,1,2,...\"\n",
    "fields = str.split(line, ',') # Split the line by comma since its a csv file. Creates a list\n",
    "Weeks = [int(i) for i in fields[1:]] # Create a list of weeks from data. fields[0] ='Weeks', fields[1:] = '1','2',...\n",
    "for line in f: # Now loop through the rest of the data\n",
    "    fields = line.split(',') # Split the line by comma. Creates a list\n",
    "    glass = fields[0] # Glass type is the first element of the row\n",
    "    for week in Weeks:\n",
    "        demand[glass, week] = int(fields[week]) # Fill dictionary with demand for that glass and week\n",
    "        \n",
    "f.close()"
   ]
  },
  {
   "cell_type": "code",
   "execution_count": 5,
   "metadata": {},
   "outputs": [],
   "source": [
    "def glassesModel(Glasses, Weeks, Demand, pCost, sCost, iStock, fStock, workerTime, machineTime, storageSpace):\n",
    "    pass"
   ]
  },
  {
   "cell_type": "markdown",
   "metadata": {},
   "source": [
    "## Problem 2: N-Queens\n",
    "\n",
    "In chess, the queen can move any number of squares vertically, horizontally or diagonally. With the standard 8x8 chessboard, it is possible to place 8 queens on the board such that no two queens threaten each other. In other words, no two queens can reach each other in one move. A solution for the 8x8 problem is shown below.\n",
    "\n",
    "<div>\n",
    "<img src=\"chess1.png\" width=\"500\"/>\n",
    "</div>\n",
    "\n",
    "The $N$-Queens asks us to places $n$ queens on an $n\\times n$-chessboard such that no two queens threaten each other. You are tasked with formulating this problem as a 0-1 integer program (vtype = GRB.BINARY). Your model should accept a parameter $n$, indicating the size of the board.\n",
    "\n",
    "Helpful hints:\n",
    "\n",
    "1. There is one set of variables for this problem\n",
    "\n",
    "$$x_{ij} = \\begin{cases}\n",
    "1 \\quad &\\text{ if a queen is placed on spot $(i,j)$}\\\\\n",
    "0 \\quad &\\text{ otherwise }\n",
    "\\end{cases} $$\n",
    "\n",
    "\n",
    "2. You must place $n$ queens on the board. Enforcing this is a constraint means that this problem has no objective function. Every feasible solution will be an optimal one.\n",
    "\n",
    "\n",
    "3. The row and column constraints should be trivial. The hard part of this problem are the diagonal constraints. The image below shows a representation $(i,j)$ for each spot on the 8x8 chessboard. Try to pick out a pattern amongst the tuples along the same diagonal\n",
    "\n",
    "\n",
    "<div>\n",
    "<img src=\"8by8board.png\" width=\"300\"/>\n",
    "</div>\n",
    "\n",
    "\n",
    "**Objectives**\n",
    "\n",
    "1. Formulate the $n$-queens problem as a 0-1 IP.\n",
    "2. Implement the mathematical program in Guroibi.\n",
    "3. Pick several instances from $n = 8, \\dots, 200$ andcompare the solution time between these instances."
   ]
  },
  {
   "cell_type": "code",
   "execution_count": null,
   "metadata": {},
   "outputs": [],
   "source": []
  }
 ],
 "metadata": {
  "kernelspec": {
   "display_name": "Python 3",
   "language": "python",
   "name": "python3"
  },
  "language_info": {
   "codemirror_mode": {
    "name": "ipython",
    "version": 3
   },
   "file_extension": ".py",
   "mimetype": "text/x-python",
   "name": "python",
   "nbconvert_exporter": "python",
   "pygments_lexer": "ipython3",
   "version": "3.6.9"
  }
 },
 "nbformat": 4,
 "nbformat_minor": 2
}
