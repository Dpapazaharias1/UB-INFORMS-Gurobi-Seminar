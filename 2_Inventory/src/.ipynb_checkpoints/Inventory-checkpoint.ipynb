{
 "cells": [
  {
   "cell_type": "markdown",
   "metadata": {},
   "source": [
    "# Invetory Problem\n",
    "\n",
    "The main activity of a company in northern France is the production of drinking glasses. It currently sells two different types of glasses (wine and martini glasses) that are produced in batches of 10 glasses. The company wishes to plan its production for the next 4 weeks.\n",
    "\n",
    "## Load Gurobi"
   ]
  },
  {
   "cell_type": "code",
   "execution_count": null,
   "metadata": {},
   "outputs": [],
   "source": []
  },
  {
   "cell_type": "markdown",
   "metadata": {},
   "source": [
    "## Create a new model"
   ]
  },
  {
   "cell_type": "code",
   "execution_count": null,
   "metadata": {},
   "outputs": [],
   "source": []
  },
  {
   "cell_type": "markdown",
   "metadata": {},
   "source": [
    "## Sets\n",
    "\n",
    "We have two sets in this problem: drinking glasses and weeks."
   ]
  },
  {
   "cell_type": "code",
   "execution_count": null,
   "metadata": {},
   "outputs": [],
   "source": []
  },
  {
   "cell_type": "markdown",
   "metadata": {},
   "source": [
    "## Parameters\n",
    "\n",
    "\n",
    "### Weekly demand\n",
    "\n",
    "Let parameter $d_{ij}$ represent the demand of glass $i$ during week $j$. \n",
    "\n",
    "\n",
    "The demand of wine and martini glasses in weeks one to four are:\n",
    "\n",
    "|| Week 1| Week 2 | Week 3 | Week 4 |\n",
    "|--------|-------|--------|--------|--------|\n",
    "|Wine| 1000| 500 | 300 | 4000|\n",
    "|Martini| 2500| 200| 800 | 350|\n",
    "\n",
    "**Note**: The number of glasses prouced per batch is 10. Since our demand is currently in units of glasses we need to translate it to batches.\n",
    "\n",
    "|| Week 1| Week 2 | Week 3 | Week 4 |\n",
    "|--------|-------|--------|--------|--------|\n",
    "|Wine| 100| 50 | 30 | 400|\n",
    "|Martini| 250| 20| 80 | 35|"
   ]
  },
  {
   "cell_type": "code",
   "execution_count": null,
   "metadata": {},
   "outputs": [],
   "source": []
  },
  {
   "cell_type": "markdown",
   "metadata": {},
   "source": [
    "### Initial and Final Stock\n",
    "\n",
    "Initially, we have 250 wine glasses (25 batches) and 100 (10 batches) of martini glasses in stock. At the end of week 4, there must be at least 1000 wine glasses (100 batches) and 600 martini glasses (60 batches) in stock.\n",
    "\n",
    "Let $I_{i0}$ represent the intial stock of glass $i$.\n",
    "\n",
    "Let $I_{if}$ represent the final required stock for glass $i$."
   ]
  },
  {
   "cell_type": "code",
   "execution_count": null,
   "metadata": {},
   "outputs": [],
   "source": []
  },
  {
   "cell_type": "markdown",
   "metadata": {},
   "source": [
    "### Production and Storage Parameters\n",
    "\n",
    "\n",
    "_\"The production and storage costs per batch of wine glasses are $\\$15$ and $\\$8$, and $\\$20$ and $\\$12$ per batch of martini glasses. The required processing time for workers and machines (in hours) to produce a batch of wine and martini glasses, are 2 and 5, and 1.5 and 3, respectively. The required storage space per batch of glasses, independently of the type is 20 $in^3$. The number of working hours of personnel is limited to 1000 hours per week, and the machines have a weekly capacity of 1400 hours. The available storage is 6000 $in^3$\"_\n",
    "\n",
    "Let:\n",
    "\n",
    "* $p_i$ represent the production cost of glass $i$\n",
    "* $s_i$ represent the storage cost of glass $i$\n",
    "* $q$   represent the required storage space per batch of glasses\n",
    "* $w_i$ represent the worker hours required to produce a batch of glass $i$\n",
    "* $m_i$ represent the machine hours required to produce a batch of glass $i$\n",
    "* $K_w$ represent the number of worker hours available in a week\n",
    "* $K_m$ represent the machine hour capacity per week\n",
    "* $K_s$ repersent the storage capacity in the stock room\n",
    "\n"
   ]
  },
  {
   "cell_type": "code",
   "execution_count": null,
   "metadata": {},
   "outputs": [],
   "source": []
  },
  {
   "cell_type": "markdown",
   "metadata": {},
   "source": [
    "## Decision Variables\n",
    "\n",
    "_\"Which quantities of the different glass types need to be produced in every period to minimize the total cost of production and storage?\"_\n",
    "\n",
    "We need to decide how many of each glass type to produce each week. Let,\n",
    "\n",
    "$$x_{ij} -  \\text{batches of glass $i$ to produce in week $j$}$$\n",
    "\n",
    "Not only do we need to decide how many batches of each type to produce each week but we also need to figure out how many batches of each glass type we need to store at the end of each week.\n",
    "\n",
    "Let\n",
    "\n",
    "$$I_{ij} - \\text{batches of glass $i$ to store at the end of week $j$}$$"
   ]
  },
  {
   "cell_type": "code",
   "execution_count": null,
   "metadata": {},
   "outputs": [],
   "source": []
  },
  {
   "cell_type": "markdown",
   "metadata": {},
   "source": [
    "## Objective Function\n",
    "\n",
    "Here we wish to minimize the total cost of production and storage.\n",
    "\n",
    "$$ \\min\\quad \\sum_{i = 1}^{2} \\sum_{j = 1}^{4} (p_i x_{ij} + s_i I_{ij})$$"
   ]
  },
  {
   "cell_type": "code",
   "execution_count": null,
   "metadata": {},
   "outputs": [],
   "source": []
  },
  {
   "cell_type": "markdown",
   "metadata": {},
   "source": [
    "## Constraints\n",
    "\n",
    "### Personnel hour constraint\n",
    "\n",
    "_\"The number of working hours of the personnel is limited to 1000 hours per week\"_. Recall that each batch of wine and martini glasses require 2 and 1.5 personnel hours, respectively.\n",
    "\n",
    "So our model will contain a constraint for each week of the production planning period limiting the number of personnel hours.\n",
    "\n",
    "$$2\\cdot x_{11} + 1.5 \\cdot x_{21} \\leq 1000, \\quad j = 1$$\n",
    "$$2\\cdot x_{12} + 1.5 \\cdot x_{22} \\leq 1000, \\quad j = 2$$\n",
    "$$2\\cdot x_{13} + 1.5 \\cdot x_{23} \\leq 1000, \\quad j = 3$$\n",
    "$$2\\cdot x_{14} + 1.5 \\cdot x_{24} \\leq 1000, \\quad j = 4$$\n",
    "\n",
    "Which can be concisely written as:\n",
    "\n",
    "$$ \\sum_{i = 1}^2 w_i x_{ij} \\leq K_w \\quad j = 1, \\dots, 4$$\n",
    "\n",
    "### Machine hour constraint\n",
    "\n",
    "Likewise, we will have a constraint for the machine hours each week\n",
    "\n",
    "$$ \\sum_{i = 1}^2 m_i x_{ij} \\leq K_m \\quad j = 1, \\dots, 4$$\n",
    "\n",
    "\n",
    "### Stock storage constraint\n",
    "\n",
    "In addition, we will have a similar constraint based on $I_{ij}$ to not exceed the storage capacity of the facility.\n",
    "\n",
    "\n",
    "$$ \\sum_{i = 1}^2 q I_{ij} \\leq K_s \\quad j = 1, \\dots, 4$$"
   ]
  },
  {
   "cell_type": "code",
   "execution_count": null,
   "metadata": {},
   "outputs": [],
   "source": []
  },
  {
   "cell_type": "markdown",
   "metadata": {},
   "source": [
    "### Conservation of Glasses constraint\n",
    "\n",
    "The crucial constraint for the inventory problem is the conservation of stock. \n",
    "\n",
    "$$ I_{ij} = I_{ij-1} + x_{ij} - d_{ij} $$\n",
    "\n",
    "This constraint is crucial because it ensures that your remaining inventory for week $j$, $I_{ij}$, after satisfying demand $d_{ij}$, must either be from:\n",
    "\n",
    "1. The inventory from last week $I_{i j-1}$\n",
    "\n",
    "2. The batches you produced this week $x_{ij}$\n",
    "\n",
    "\n",
    "This constraint requires some care when coding as the initial stock $I_{i0}$ is a parameter and does not belong to our dictionary $I$."
   ]
  },
  {
   "cell_type": "code",
   "execution_count": null,
   "metadata": {},
   "outputs": [],
   "source": []
  },
  {
   "cell_type": "markdown",
   "metadata": {},
   "source": [
    "### Final stock constraint\n",
    "\n",
    "_\"The required final stock at the end of week four of both wine and martini glasses should be at least 1000 and 600 glasses, respectively\"_\n",
    "\n",
    "Lastly, we need to ensure that\n",
    "\n",
    "$$ I_{i4} = I_{if}$$\n",
    "\n",
    "If we do not know the total number of weeks off the top of our head we can easily access it using the negative indexing of python."
   ]
  },
  {
   "cell_type": "code",
   "execution_count": null,
   "metadata": {},
   "outputs": [],
   "source": []
  },
  {
   "cell_type": "markdown",
   "metadata": {},
   "source": [
    "## Optimize the model\n",
    "\n",
    "Now that we have loaded\n",
    "\n",
    "* Sets\n",
    "* Parameters\n",
    "* Decision Variables\n",
    "* Constraints\n",
    "* Objective Function\n",
    "\n",
    "to our model, we can now tell Gurobi to optimize the model!"
   ]
  },
  {
   "cell_type": "code",
   "execution_count": null,
   "metadata": {},
   "outputs": [],
   "source": []
  },
  {
   "cell_type": "markdown",
   "metadata": {},
   "source": [
    "## Print Solution"
   ]
  },
  {
   "cell_type": "code",
   "execution_count": null,
   "metadata": {},
   "outputs": [],
   "source": []
  }
 ],
 "metadata": {
  "kernelspec": {
   "display_name": "Python 3",
   "language": "python",
   "name": "python3"
  },
  "language_info": {
   "codemirror_mode": {
    "name": "ipython",
    "version": 3
   },
   "file_extension": ".py",
   "mimetype": "text/x-python",
   "name": "python",
   "nbconvert_exporter": "python",
   "pygments_lexer": "ipython3",
   "version": "3.7.4"
  }
 },
 "nbformat": 4,
 "nbformat_minor": 2
}
