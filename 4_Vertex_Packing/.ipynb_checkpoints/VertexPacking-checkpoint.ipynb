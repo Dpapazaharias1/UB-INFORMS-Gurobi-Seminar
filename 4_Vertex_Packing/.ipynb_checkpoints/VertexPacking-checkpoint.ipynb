{
 "cells": [
  {
   "cell_type": "code",
   "execution_count": 1,
   "metadata": {},
   "outputs": [],
   "source": [
    "from gurobipy import *"
   ]
  },
  {
   "cell_type": "markdown",
   "metadata": {},
   "source": [
    "## Reading a Graph\n",
    "\n",
    "We must first provide an efficient way to read in a Graph from a .txt file. Graphs can be represented in a number of different ways but for this workshop we consider the style as shown in jazz.graph.txt. The first line of this file has two numbers, the first reprents the number of vertices in $G$, the second represents the number edges. Each line after that represents an edge, defined by its two end points which are vertices in $G$.\n",
    "\n",
    "I have provided the code to do this below"
   ]
  },
  {
   "cell_type": "code",
   "execution_count": 2,
   "metadata": {},
   "outputs": [],
   "source": [
    "def read(inputfile):\n",
    "    f = open(inputfile, 'r') # Open .txt file\n",
    "    line = f.readline() # Read the first line, returns string\n",
    "    fields = str.split(line) # Split the line, returns list\n",
    "    n = int(fields[0]) # Number of vertices in G\n",
    "    m = int(fields[1]) # Number of edges in G\n",
    "    adjLists = [] # Initialize adjacency list\n",
    "\n",
    "    for i in range(0, n):\n",
    "        adjLists.append([])\n",
    "    \n",
    "    # Fill adjacency list\n",
    "    for line in f:\n",
    "        fields = line.split(' ')\n",
    "        i = int(fields[0])\n",
    "        j = int(fields[1])\n",
    "        adjLists[i].append(j)\n",
    "        adjLists[j].append(i)\n",
    "    f.close # Close .txt file once finished reading\n",
    "    return n, m, adjLists"
   ]
  },
  {
   "cell_type": "code",
   "execution_count": 3,
   "metadata": {},
   "outputs": [],
   "source": [
    "n, m, adjLists = read(\"jazz.graph.txt\")"
   ]
  },
  {
   "cell_type": "code",
   "execution_count": 6,
   "metadata": {},
   "outputs": [
    {
     "data": {
      "text/plain": [
       "[[7,\n",
       "  23,\n",
       "  34,\n",
       "  41,\n",
       "  45,\n",
       "  59,\n",
       "  73,\n",
       "  77,\n",
       "  80,\n",
       "  94,\n",
       "  97,\n",
       "  98,\n",
       "  99,\n",
       "  100,\n",
       "  102,\n",
       "  103,\n",
       "  107,\n",
       "  130,\n",
       "  131,\n",
       "  153,\n",
       "  158,\n",
       "  167,\n",
       "  170],\n",
       " [13, 53, 149],\n",
       " [114, 152, 166, 171]]"
      ]
     },
     "execution_count": 6,
     "metadata": {},
     "output_type": "execute_result"
    }
   ],
   "source": [
    "adjLists[0:3]"
   ]
  },
  {
   "cell_type": "markdown",
   "metadata": {},
   "source": [
    "## Max Weighted Clique\n",
    "\n",
    "Recall the formulation:\n",
    "\n",
    "$$ \\max \\quad\\sum_{i \\in V} \\bar{x}_i y_i \\hspace{2.75cm}$$\n",
    "$$ \\text{s.t.} \\quad y_i + y_j \\leq 1 \\quad \\lbrace i,j \\rbrace \\notin E$$\n",
    "$$  y_i \\in \\lbrace 0,1 \\rbrace \\quad i \\in V $$\n",
    "\n",
    "\n",
    "Since we have not solved the LP relaxation for vertex packing yet $\\bar{x}_i= 0$ for all $i \\in V$ for now. We will update the objective coefficient for $y_i$ in our callback function  \n",
    "\n"
   ]
  },
  {
   "cell_type": "code",
   "execution_count": 7,
   "metadata": {},
   "outputs": [
    {
     "name": "stdout",
     "output_type": "stream",
     "text": [
      "Academic license - for non-commercial use only\n"
     ]
    }
   ],
   "source": [
    "MWC_model = Model('MaxWeightClique')\n",
    "MWC_model.Params.OutputFlag = 0 \n",
    "y = {}\n",
    "for i in range(n):\n",
    "    y[i] = MWC_model.addVar(vtype=GRB.BINARY, obj = 0, name=\"y_{}\".format(i))\n",
    "\n",
    "MWC_model.update()\n",
    "MWC_model.modelSense = GRB.MAXIMIZE\n",
    "\n",
    "for i in range(n):\n",
    "    for j in range(i+1, n):\n",
    "        if (j not in adjLists[i]):\n",
    "            MWC_model.addConstr(y[i] + y[j] <= 1)"
   ]
  },
  {
   "cell_type": "markdown",
   "metadata": {},
   "source": [
    "## Vertex Packing Formulation\n",
    "\n",
    "Recall the vertex packing formulation:\n",
    "\n",
    "$$\\max \\quad \\sum_{i \\in V} x_i \\hspace{3cm}$$\n",
    "$$\\text{s.t.} \\quad x_i + x_j \\leq 1 \\quad \\lbrace i,j \\rbrace \\in E$$\n",
    "$$ x_i \\in \\lbrace 0,1 \\rbrace \\quad i \\in V$$\n",
    "\n",
    "### IMPORTANT: Model Parameters\n",
    "\n",
    "In order to use user cuts in our model we must set the model parameter PreCrush equal to 1\n",
    "\n",
    "```python\n",
    "VP_model.Params.PreCrush = 1\n",
    "```\n",
    "\n",
    "It turns out that the developers of Gurobi have their own implementation of clique cuts that is much better than the procedure we have discussed here. In addition Gurobi has some very powerful presolve algorithms that exploit the problem structure to make the model much smaller and easier to solve. Without disabling these, Gurobi will add all of their cuts and solve their problem to optimality before we even get a chance to use our cuts! The following code will prevent Gurobi from adding their clique cuts and using their presolve algorithms.\n",
    "\n",
    "```python\n",
    "VP_model.Params.CliqueCuts = 0\n",
    "VP_model.Params.Presolve = 0\n",
    "```"
   ]
  },
  {
   "cell_type": "code",
   "execution_count": 8,
   "metadata": {},
   "outputs": [
    {
     "name": "stdout",
     "output_type": "stream",
     "text": [
      "Changed value of parameter PreCrush to 1\n",
      "   Prev: 0  Min: 0  Max: 1  Default: 0\n",
      "Changed value of parameter CliqueCuts to 0\n",
      "   Prev: -1  Min: -1  Max: 2  Default: -1\n",
      "Changed value of parameter Presolve to 0\n",
      "   Prev: -1  Min: -1  Max: 2  Default: -1\n"
     ]
    }
   ],
   "source": [
    "VP_model = Model('VertexPacking') \n",
    "VP_model.Params.PreCrush = 1 # Allow user cuts\n",
    "VP_model.Params.CliqueCuts = 0 # Prevent Gurobi from adding their clique cuts\n",
    "VP_model.Params.Presolve = 0 \n",
    "x = {}\n",
    "for i in range(n):\n",
    "    x[i] = VP_model.addVar(vtype = GRB.BINARY, obj = 1, name=\"x_{}\".format(i))\n",
    "    \n",
    "VP_model.update()\n",
    "VP_model.modelSense = GRB.MAXIMIZE\n",
    "\n",
    "for i in range(n):\n",
    "    for j in adjLists[i]:\n",
    "        if (i < j):\n",
    "            VP_model.addConstr(x[i] + x[j] <= 1)"
   ]
  },
  {
   "cell_type": "markdown",
   "metadata": {},
   "source": [
    "## Load Data in VP Model\n",
    "\n",
    "Since our callback can only take two arguements, we need load our variables, parameters and MWC model into our vertex packing model in order to access them during the callback"
   ]
  },
  {
   "cell_type": "code",
   "execution_count": 9,
   "metadata": {},
   "outputs": [],
   "source": [
    "VP_model._x = x\n",
    "VP_model._n = n\n",
    "VP_model._MWC = MWC_model\n",
    "VP_model._y = y"
   ]
  },
  {
   "cell_type": "markdown",
   "metadata": {},
   "source": [
    "## Separation Algorithm\n",
    "\n",
    "Our callback function CliqueCuts may only have two arguments: model and where. The model will be our vertex packing model. We use \"where\" in order to query the status of our model. The statement \n",
    "\n",
    "\n",
    "```python\n",
    "if (where == GRB.Callback.MIPNODE)\n",
    "```\n",
    "indicates that we want query the model once we open a MIP node in the branch and bound tree. However, we are only interested in nodes where we can get an optimal LP relaxation (as opposed to infeasible). The statement\n",
    "\n",
    "```python\n",
    "status = VP_model.cbGet(GRB.Callback.MIPNODE_STATUS)\n",
    "```\n",
    "queries the status of our current node. Since we will use our callback to add cuts based on the solution LP relaxation, we can ensure that a feasible solution is found via\n",
    "\n",
    "```python\n",
    "if status == GRB.OPTIMAL\n",
    "```"
   ]
  },
  {
   "cell_type": "code",
   "execution_count": 10,
   "metadata": {},
   "outputs": [],
   "source": [
    "def CliqueCuts(VP_model, where):\n",
    "    if (where == GRB.Callback.MIPNODE):\n",
    "        status = VP_model.cbGet(GRB.Callback.MIPNODE_STATUS)\n",
    "        if status == GRB.OPTIMAL:\n",
    "            x_sol = VP_model.cbGetNodeRel(VP_model._x)\n",
    "            for i in range(n):\n",
    "                VP_model._y[i].Obj = x_sol[i]\n",
    "            VP_model._MWC.optimize()\n",
    "            \n",
    "            print('Max weighted clique: {}'.format(VP_model._MWC.objval))\n",
    "            for i in range(n):\n",
    "                if (y[i].x > 0.5):\n",
    "                    print(\"{} \".format(i), end='')\n",
    "            print(\"\\n\")\n",
    "            \n",
    "            if VP_model._MWC.objval > 1:\n",
    "                VP_model.cbCut(quicksum(VP_model._x[i]*y[i].x for i in range(VP_model._n)) <= 1)\n",
    "            \n",
    "            "
   ]
  },
  {
   "cell_type": "code",
   "execution_count": null,
   "metadata": {},
   "outputs": [],
   "source": [
    "VP_model.optimize(CliqueCuts)"
   ]
  }
 ],
 "metadata": {
  "kernelspec": {
   "display_name": "Python 3",
   "language": "python",
   "name": "python3"
  },
  "language_info": {
   "codemirror_mode": {
    "name": "ipython",
    "version": 3
   },
   "file_extension": ".py",
   "mimetype": "text/x-python",
   "name": "python",
   "nbconvert_exporter": "python",
   "pygments_lexer": "ipython3",
   "version": "3.6.9"
  }
 },
 "nbformat": 4,
 "nbformat_minor": 2
}
