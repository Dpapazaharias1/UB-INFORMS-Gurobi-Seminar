{
 "cells": [
  {
   "cell_type": "markdown",
   "metadata": {},
   "source": [
    "# Problem 1: Heuristic Separation (Greedy)\n",
    "\n",
    "In this workshop we mentioned that the Maximum Weighted Clique (MWC) separation algorithm is just as hard as solving Vertex Packing (VP). Rather than solving MWC for the optimal separation, we propose a greedy algorithm for finding a maximal clique. \n",
    "\n",
    "0. Initialize $C = \\emptyset$\n",
    "1. $v = \\arg\\max_{i\\in V} \\lbrace \\bar{x}_i \\rbrace$\n",
    "2. $C \\gets C \\cup \\lbrace \\bar{x}_i \\rbrace$\n",
    "3. Select $u = \\arg\\max_{i\\in V} \\lbrace \\bar{x}_i \\rbrace$, such that $\\lbrace u, j \\rbrace \\in E$ for all $j \\in C$\n",
    "    * If $u$ exists, $C \\gets C \\cup \\lbrace u \\rbrace$\n",
    "    * Otherwise, stop return $C$\n",
    "4. If $\\sum_{i \\in C} \\bar{x}_i > 1$, add cut. Otherwise branch.\n",
    "\n",
    "Solve vertex packing using the greedy separation procedure to add clique cuts."
   ]
  },
  {
   "cell_type": "code",
   "execution_count": null,
   "metadata": {},
   "outputs": [],
   "source": []
  },
  {
   "cell_type": "markdown",
   "metadata": {},
   "source": [
    "# Problem 2: Minimum Vertex Cover & Maximum Matching\n",
    "\n",
    "In this problem we will look at a related set of graph problems: covering and matching.\n",
    "\n",
    "## 2.1 Vertex Cover\n",
    "\n",
    "Given an undirected graph $G=(V,E)$, a subset of vertices $S \\subseteq V$ is called a vertex cover if for each edge in $E$, at least one of its endpoints belongs to $S$. Finding the minimum vertex cover is called the vertex cover problem. \n",
    "\n",
    "Formulate the vertex cover problem as a 0-1 Integer Program.\n",
    "\n",
    "\n",
    "## 2.2 Maximum Matching\n",
    "\n",
    "Given an undirected graph $G=(V,E)$, a matching $M$ is a subset of edges such that no two edges share a common vertex. A maximum matching is a matching which contains the largest possible number of edges.\n",
    "\n",
    "Formulate the matching problem as a 0-1 Integer Program.\n",
    "\n",
    "## 2.3 Primal-Dual\n",
    "\n",
    "Formulate the vertex cover problem as a linear program and take its dual. Describe your observations of the dual, especially with respect to maximum matching.\n",
    "\n",
    "## 2.4 2-Approximation for Vertex Cover\n",
    "\n",
    "A *maximal matching* $M$ is a matching such that for any $e \\notin M$, $M \\cup \\lbrace e \\rbrace$ is no longer a matching. \n",
    "\n",
    "1. Given a maximal matching $M$, show that the $x_i = 1$ and $x_j = 1$ for all $\\lbrace i, j \\rbrace \\in M$ is a valid solution to vertex packing.\n",
    "2. Show that this solution can be no larger than twice the optimal vertex cover.\n"
   ]
  },
  {
   "cell_type": "code",
   "execution_count": null,
   "metadata": {},
   "outputs": [],
   "source": []
  }
 ],
 "metadata": {
  "kernelspec": {
   "display_name": "Python 3",
   "language": "python",
   "name": "python3"
  },
  "language_info": {
   "codemirror_mode": {
    "name": "ipython",
    "version": 3
   },
   "file_extension": ".py",
   "mimetype": "text/x-python",
   "name": "python",
   "nbconvert_exporter": "python",
   "pygments_lexer": "ipython3",
   "version": "3.6.9"
  }
 },
 "nbformat": 4,
 "nbformat_minor": 2
}
