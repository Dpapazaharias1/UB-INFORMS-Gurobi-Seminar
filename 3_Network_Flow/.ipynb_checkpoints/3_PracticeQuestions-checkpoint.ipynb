{
 "cells": [
  {
   "cell_type": "markdown",
   "metadata": {},
   "source": [
    "# Problem 1: Max Flow Problem\n",
    "\n",
    "Maximum flow problems involve finding a feasible flow through a flow network that is maximum. The distinction is now the node supply/demand for sources and sinks is now a decision variable. Namely, we can push as must flow as we want out of the source so long as we are not violating the balance flow constraints or arc capacity. We will maximize the flow leaving $s$. \n",
    "\n",
    "## Formulation\n",
    "\n",
    "$$\\max \\sum_{ v \\in \\delta^+(s)} x_{sv}\\\\$$ \n",
    "$$\\sum_{j \\in \\delta^+(i)} x_{ij} - \\sum_{j \\in \\delta^-(i)} x_{ji} = 0 \\quad i \\in N \\setminus \\lbrace s,t \\rbrace$$\n",
    "\n",
    "$$x_{ij} \\leq u_{ij} \\quad (i,j) \\in A\\\\$$\n",
    "$$x_{ij} \\geq 0 \\quad (i,j) \\in A$$\n",
    "\n",
    "\n",
    "1. Implement the max flow formulation in Gurobi and solve the following instance\n",
    "\n",
    "\n",
    "\n",
    "<div>\n",
    "<img src=\"maxflow.png\" width=\"300\"/>\n",
    "</div>\n",
    "\n",
    "\n",
    "\n",
    "## Min Cut\n",
    "\n",
    "An $s-t$ cut $C = (S, T)$ is a partition of $N$ such that $s \\in S$ and $t \\in T$. That is, $s-t$ cut is a division of the vertices of the network into two parts, with the source in one part and the sink in the other. The **capacity** of the cut is defined as the capacity of the arcs $(i,j) \\in A$ such that $i \\in S$ and $j \\in T$. Namely \n",
    "\n",
    "$$\n",
    "c(S,T) = \\sum_{\\lbrace (i,j) \\in A | i \\in S, j \\in T \\rbrace} u_{ij}\n",
    "$$\n",
    "\n",
    "The minimum cut problem is to find an $s-t$ cut such that the capacity of the cut is minimal.\n",
    "\n",
    "## Max Flow - Min Cut\n",
    "\n",
    "An interesting theroem that arises from this is that the maximum $(s,t)$ flow in a network is equal to the minimum $(s,t)$ cut. In fact, the linear program for minimum cut is the dual formulation of the maximum flow. The formulation for the minimum cut.\n",
    "\n",
    "Let $y_{ij}$ represent the dual variables associated with the each capacity constraint for $(i,j) \\in A$. Let $z_i$ represent the dual variable associate with each balance flow constraint. Note that we will have $z_i$ for $i \\in N \\setminus \\lbrace s, t\\rbrace$. The formulation is as follows\n",
    "\n",
    "$$ \\min \\quad \\sum_{(i,j) \\in A} u_{ij} y_{ij}\\\\\n",
    "\\text{s.t.} \\quad y_{ij} - z_i + z_j \\geq 0 \\quad (i,j) \\in A, i \\neq s, j \\neq t\\\\\n",
    "y_{si} + z_i \\geq 1 \\quad (s,i) \\in A\\\\\n",
    "y_{jt} - z_j \\geq 0 \\quad (j,t) \\in A\\\\\n",
    "y_{ij} \\geq 0 \\quad (i,j) \\in A\\\\\n",
    "z_i \\text{ free} \\quad i \\in N \\setminus \\lbrace s, t \\rbrace\n",
    "$$\n",
    "\n",
    "2. Prove that the minimum cut is the dual of the maximum flow problem.\n",
    "3. Implement the minimum cut formulation for the previous example and compare the optimal solutions.\n"
   ]
  },
  {
   "cell_type": "code",
   "execution_count": 1,
   "metadata": {},
   "outputs": [],
   "source": [
    "def maxFlow(Nodes, Arcs, ub, lb):\n",
    "    pass"
   ]
  },
  {
   "cell_type": "markdown",
   "metadata": {},
   "source": [
    "# Problem 2: Shortest Path Problem\n",
    "\n",
    "We can adapt the minimum cost network flow problem in order to solve the shortest path problem on a digraph. A path in a graph is a finite or infinite sequence of edges which joins a sequence of vertices which are **distinct**. Namely, we cannot repeat nodes or edges. We can find the shortest $(s,t)-path$ in $G$ by pushing one unit of flow from the source to the sink. Since we cannot repeat edges we will limit the capacity of the arcs by one.\n",
    "\n",
    "Formulate shortest path as a network flow problem and solve the following instance with:\n",
    "\n",
    "1. Each arc having a per unit shipping cost of 1\n",
    "2. Randomly generate the cost of each arc from 0 to 1 (import random)\n",
    "\n",
    "\n",
    "<div>\n",
    "<img src=\"spexample.png\" width=\"500\"/>\n",
    "</div>\n",
    "\n"
   ]
  },
  {
   "cell_type": "code",
   "execution_count": null,
   "metadata": {},
   "outputs": [],
   "source": []
  },
  {
   "cell_type": "markdown",
   "metadata": {},
   "source": [
    "# Problem 3: Nurse Scheduling Problem\n",
    "\n",
    "A hospital administrator needs to establish a staffing schedule for nurses that will meet the minimum daily requirements shown in the table below\n",
    "\n",
    "| Shift \t| 1 \t| 2 \t| 3 \t| 4 \t| 5 \t| 6 \t|\n",
    "|----------------------\t|------------\t|------------\t|-----------\t|-----------\t|----------\t|---------\t|\n",
    "| Clock Time \t| 6am - 10am \t| 10am - 2pm \t| 2pm - 6pm \t| 6pm- 10pm \t| 10pm-2am \t| 2am-6am \t|\n",
    "| Min. Nurses Required \t| 70  \t| 80 \t| 50 \t| 60 \t| 40 \t| 30 \t|\n",
    "\n",
    "Nurses reporting to the hospital wards for the first five shifts work for 8 consecutive hours, except nurses reporting for the last shift (2:00am to 6:00am), when they work for only 4 hours. The administrator wants to determine the minimal number of nurses to employ to ensure that a sufficient number of nurses.\n",
    "\n",
    "Formulate this problem as a network flow problem and impliment it with Gurobi"
   ]
  },
  {
   "cell_type": "code",
   "execution_count": null,
   "metadata": {},
   "outputs": [],
   "source": []
  },
  {
   "cell_type": "markdown",
   "metadata": {},
   "source": [
    "# Problem 4: Fiberglass Production\n",
    "\n",
    "A company produces fiberglass by the cubic meter and wishes to plan its production for the next six weeks. The production capacity is limited, and this limit takes a different value in every time period. The weekly demand is known for the entire planning period. The production and storage costs also take different values depending on the time period. All data are listed in the following table\n",
    "\n",
    "| Week \t| Production  Capacity \t| Demand \t| Prod. Cost \t| Storage Costs \t|\n",
    "|:----:\t|:--------------------:\t|:------:\t|:----------:\t|:-------------:\t|\n",
    "| 1 \t| 140 \t| 100 \t| 5 \t| 0.2 \t|\n",
    "| 2 \t| 100 \t| 120 \t| 8 \t| 0.3 \t|\n",
    "| 3 \t| 110 \t| 100 \t| 6 \t| 0.2 \t|\n",
    "| 4 \t| 100 \t| 90 \t| 6 \t| 0.25 \t|\n",
    "| 5 \t| 120 \t| 120 \t| 7 \t| 0.3 \t|\n",
    "| 6 \t| 100 \t| 110 \t| 6 \t| 0.4 \t|\n",
    "\n",
    "What is the production plan that minimizes the total cost of production and storage? Use a network structure to formulate this problem"
   ]
  },
  {
   "cell_type": "code",
   "execution_count": null,
   "metadata": {},
   "outputs": [],
   "source": []
  },
  {
   "cell_type": "markdown",
   "metadata": {},
   "source": [
    "# References\n",
    "\n",
    "1. Gurobi.com\n",
    "2. Network Flows: Theory, Algorithms and Applications by Ahuja, Magnanti, Orlin\n",
    "3. Applications of optimization with Xpress-MP by Guéret, Prins, Sevaux"
   ]
  }
 ],
 "metadata": {
  "kernelspec": {
   "display_name": "Python 3",
   "language": "python",
   "name": "python3"
  },
  "language_info": {
   "codemirror_mode": {
    "name": "ipython",
    "version": 3
   },
   "file_extension": ".py",
   "mimetype": "text/x-python",
   "name": "python",
   "nbconvert_exporter": "python",
   "pygments_lexer": "ipython3",
   "version": "3.6.9"
  }
 },
 "nbformat": 4,
 "nbformat_minor": 2
}
