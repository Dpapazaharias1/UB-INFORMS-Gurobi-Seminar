{
 "cells": [
  {
   "cell_type": "markdown",
   "metadata": {},
   "source": [
    "# Waste Management\n",
    "\n",
    "A company in the southwest of France needs to transport 180 tons of chemical products stored in four depots D1 to D4 to three recycling centers C1, C2, and C3. The depots D1 to D4 currently store respectively 50, 30, 35, and 65 tons of product and the recycling centers require 30, 65 and 85 tons, respectively. Two transportation modes are available: road and rail. Depot D1 only delivers to centers C1 and C2 by road at a cost of $\\$12,000$ per ton and $\\$11,000$ per ton, respectively; Depot D2 can deliver to C2, by road at a cost of $\\$9,000$ per ton and to C3 by rail or road for $\\$4,000$ per ton and $\\$5,000$ per ton, respectively; depot D3 delivers to center C1 by road at a cost of $\\$7,000$ ton and to C3 by rail or road for $\\$9,000$ per ton or $\\$9,500$ per ton, respectively; depot D4 delivers to center C2 by rail or road at a cost of $\\$11,000$ ton and $\\$14,000$ ton, and to C3 by rail or road for $\\$10,000$ per ton and $\\$14,000$ per ton, respectively.\n",
    "\n",
    "Currently, a contract with the train transporter requires the company to transport at least 10 tons and at most 50 tons for any single delivery between the depots and centers for which the train service is available.\n",
    "In other words, wherever there is a rail service, between a depot and a center, the company must send at least 10 tons via that service. **How should the company transport the 180 tons of chemicals to minimize the total transportation cost?**\n",
    "\n",
    "## Modelling Tricks\n",
    "\n",
    "### Issue\n",
    "\n",
    "Some depots have the option to deliver to centers by road or rail. How can we differentiate these arcs?\n",
    "\n",
    "\n",
    "\n",
    "<div>\n",
    "<img src=\"railroad.png\" width=\"500\"/>\n",
    "</div>\n",
    "\n",
    "### Solution\n",
    "\n",
    "\n",
    "Create two artificial intermediate nodes ($b_i=0$), one for road and one for rail. The arcs from $C^{rail}_i$ to $C_i$ will have parameters $(c^{rail}_{ii},\\ell^{rail}_{ii},u^{rail}_{ii}) = (0, 0, \\infty)$. Likewise, for $C^{road}_i$, $(c^{road}_{ii},\\ell^{road}_{ii},u^{road}_{ii}) = (0, 0, \\infty)$\n",
    "\n",
    "<div>\n",
    "<img src=\"splitnodes.png\" width=\"500\"/>\n",
    "</div>\n",
    "\n",
    "We will say that $C_i^r$ will represent shipment by road and $C_i^\\ell$ represents shipment by rail.\n",
    "\n",
    "## The Network\n",
    "\n",
    "\n",
    "<div>\n",
    "<img src=\"network.png\" width=\"600\"/>\n",
    "</div>\n",
    "\n",
    "\n"
   ]
  },
  {
   "cell_type": "code",
   "execution_count": 1,
   "metadata": {},
   "outputs": [],
   "source": [
    "from gurobipy import *"
   ]
  },
  {
   "cell_type": "markdown",
   "metadata": {},
   "source": [
    "## Multidict\n",
    "\n",
    "This function splits a single dictionary into multiple dictionaries. The input dictionary should map each key to a list of n values. The function returns a list of the shared keys as its first result, followed by the n individual Gurobi tuple dictionaries (stored as tupledict objects).\n",
    "\n",
    "\n",
    "### Arguments\n",
    "\n",
    "**data**: A Python dictionary. Each key should map to a list of values.\n",
    "\n",
    "### Return value\n",
    "\n",
    "A list, where the first member contains the shared key values, and the following members contain the dictionaries that result from splitting the value lists from the input dictionary.\n",
    "\n",
    "### Example\n",
    "\n",
    "```Python\n",
    "keys, dict1, dict2 = multidict( {\n",
    "    'key1': [1, 2],\n",
    "    'key2': [1, 3],\n",
    "    'key3': [1, 4] } )```\n",
    "\n",
    "Returns\n",
    "\n",
    "```Python \n",
    "keys = ['key1', 'key2', 'key3']\n",
    "dict1 = {'key1':1, 'key2':1, 'key3':1}\n",
    "dict2 = {'key1':2, 'key2':3, 'key3':4}\n",
    "```\n",
    "\n",
    "Usally we use multidict to specify a set i.e Nodes and Arcs, and define all the parameters associate with that set all in one function"
   ]
  },
  {
   "cell_type": "code",
   "execution_count": 2,
   "metadata": {},
   "outputs": [],
   "source": [
    "Nodes, Supply= multidict({\n",
    "'D1': 50,\n",
    "'D2': 30,\n",
    "'D3': 35,\n",
    "'D4': 65,\n",
    "'C1r': 0,\n",
    "'C1l': 0,\n",
    "'C2r': 0,\n",
    "'C2l': 0,\n",
    "'C3r': 0,\n",
    "'C3l': 0,\n",
    "'C1':-30,\n",
    "'C2':-65,\n",
    "'C3':-85\n",
    "})"
   ]
  },
  {
   "cell_type": "code",
   "execution_count": 3,
   "metadata": {},
   "outputs": [
    {
     "data": {
      "text/plain": [
       "['D1', 'D2', 'D3', 'D4', 'C1r', 'C1l', 'C2r', 'C2l', 'C3r', 'C3l', 'C1', 'C2', 'C3']"
      ]
     },
     "execution_count": 3,
     "metadata": {},
     "output_type": "execute_result"
    }
   ],
   "source": [
    "Nodes"
   ]
  },
  {
   "cell_type": "code",
   "execution_count": 4,
   "metadata": {},
   "outputs": [
    {
     "data": {
      "text/plain": [
       "{'D1': 50,\n",
       " 'D2': 30,\n",
       " 'D3': 35,\n",
       " 'D4': 65,\n",
       " 'C1r': 0,\n",
       " 'C1l': 0,\n",
       " 'C2r': 0,\n",
       " 'C2l': 0,\n",
       " 'C3r': 0,\n",
       " 'C3l': 0,\n",
       " 'C1': -30,\n",
       " 'C2': -65,\n",
       " 'C3': -85}"
      ]
     },
     "execution_count": 4,
     "metadata": {},
     "output_type": "execute_result"
    }
   ],
   "source": [
    "Supply"
   ]
  },
  {
   "cell_type": "code",
   "execution_count": 7,
   "metadata": {},
   "outputs": [],
   "source": [
    "Arcs, cost, lb, ub = multidict({\n",
    "('C1r','C1'): [0,0,100],\n",
    "('C1l','C1'): [0,0,120],\n",
    "('C2r','C2'): [0,0,120],\n",
    "('C2l','C2'): [0,0,120],\n",
    "('C3r','C3'): [0,0,120],\n",
    "('C3l','C3'): [0,0,120],\n",
    "('D1','C1r'): [12,0,100],\n",
    "('D1','C2r'): [11,0,100],\n",
    "('D2','C2r'): [9,0,100],\n",
    "('D2','C3r'): [5,0,100],\n",
    "('D2','C3l'): [4,10,50],\n",
    "('D3','C1r'): [7,0,100],\n",
    "('D3','C3r'): [9.5,0,100],\n",
    "('D3','C3l'): [9,10,50],\n",
    "('D4','C2r'): [14,0,100],\n",
    "('D4','C3r'): [14,0,100],\n",
    "('D4','C2l'): [11,10,50],\n",
    "('D4','C3l'): [10,10,50],\n",
    "})"
   ]
  },
  {
   "cell_type": "code",
   "execution_count": 10,
   "metadata": {},
   "outputs": [
    {
     "data": {
      "text/plain": [
       "{('C1r', 'C1'): 0,\n",
       " ('C1l', 'C1'): 0,\n",
       " ('C2r', 'C2'): 0,\n",
       " ('C2l', 'C2'): 0,\n",
       " ('C3r', 'C3'): 0,\n",
       " ('C3l', 'C3'): 0,\n",
       " ('D1', 'C1r'): 12,\n",
       " ('D1', 'C2r'): 11,\n",
       " ('D2', 'C2r'): 9,\n",
       " ('D2', 'C3r'): 5,\n",
       " ('D2', 'C3l'): 4,\n",
       " ('D3', 'C1r'): 7,\n",
       " ('D3', 'C3r'): 9.5,\n",
       " ('D3', 'C3l'): 9,\n",
       " ('D4', 'C2r'): 14,\n",
       " ('D4', 'C3r'): 14,\n",
       " ('D4', 'C2l'): 11,\n",
       " ('D4', 'C3l'): 10}"
      ]
     },
     "execution_count": 10,
     "metadata": {},
     "output_type": "execute_result"
    }
   ],
   "source": [
    "cost"
   ]
  },
  {
   "cell_type": "code",
   "execution_count": 11,
   "metadata": {},
   "outputs": [],
   "source": [
    "Arcs = tuplelist(Arcs)"
   ]
  },
  {
   "cell_type": "code",
   "execution_count": 13,
   "metadata": {},
   "outputs": [],
   "source": [
    "def minCostFlow(Nodes, Arcs, Supply, cost, lb, ub):\n",
    "    \n",
    "    model = Model('mincost')\n",
    "    \n",
    "    x = {}\n",
    "    for i, j in Arcs:\n",
    "        x[i, j] = model.addVar(vtype=GRB.CONTINUOUS, lb = lb[i, j], ub = ub[i, j], obj = cost[i,j])\n",
    "    \n",
    "    model.modelSense = GRB.MINIMIZE\n",
    "    model.update()\n",
    "    \n",
    "    # Balance Flow Constraints\n",
    "    \n",
    "    for i in Nodes:\n",
    "        FS = quicksum(x[i,j] for i, j in Arcs.select(i, '*'))\n",
    "        RS = quicksum(x[j,i] for j, i in Arcs.select('*', i))\n",
    "        model.addConstr(FS - RS == Supply[i])\n",
    "        \n",
    "    def printSolution():\n",
    "        if model.status == GRB.status.OPTIMAL:\n",
    "            print('Objective Value: {}'.format(model.objVal))\n",
    "            for i, j in Arcs:\n",
    "                print(\"Arc ({},{}): {}\".format(i,j, x[i,j].X))\n",
    "        else:\n",
    "            print('No solution.')\n",
    "    \n",
    "    model.optimize()\n",
    "    printSolution()"
   ]
  },
  {
   "cell_type": "code",
   "execution_count": 15,
   "metadata": {},
   "outputs": [],
   "source": [
    "minCostFlow(Nodes,Arcs,Supply, cost, lb, ub)"
   ]
  },
  {
   "cell_type": "code",
   "execution_count": null,
   "metadata": {},
   "outputs": [],
   "source": []
  }
 ],
 "metadata": {
  "kernelspec": {
   "display_name": "Python 3",
   "language": "python",
   "name": "python3"
  },
  "language_info": {
   "codemirror_mode": {
    "name": "ipython",
    "version": 3
   },
   "file_extension": ".py",
   "mimetype": "text/x-python",
   "name": "python",
   "nbconvert_exporter": "python",
   "pygments_lexer": "ipython3",
   "version": "3.6.9"
  }
 },
 "nbformat": 4,
 "nbformat_minor": 2
}
